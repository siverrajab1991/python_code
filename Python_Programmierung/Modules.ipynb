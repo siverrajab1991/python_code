{
 "cells": [
  {
   "cell_type": "code",
   "execution_count": 2,
   "id": "2737c983",
   "metadata": {},
   "outputs": [],
   "source": [
    "#Collections Module "
   ]
  },
  {
   "cell_type": "code",
   "execution_count": 61,
   "id": "28195a4b",
   "metadata": {},
   "outputs": [],
   "source": [
    "from collections import Counter"
   ]
  },
  {
   "cell_type": "code",
   "execution_count": 4,
   "id": "0ad51be6",
   "metadata": {},
   "outputs": [],
   "source": [
    "mylist = [1,1,1,1,2,2,2,2,2,2,3,3,3,3,3,3]"
   ]
  },
  {
   "cell_type": "code",
   "execution_count": 7,
   "id": "bd3a6ef9",
   "metadata": {},
   "outputs": [
    {
     "data": {
      "text/plain": [
       "Counter({1: 4, 2: 6, 3: 6})"
      ]
     },
     "execution_count": 7,
     "metadata": {},
     "output_type": "execute_result"
    }
   ],
   "source": [
    "Counter(mylist)"
   ]
  },
  {
   "cell_type": "code",
   "execution_count": 10,
   "id": "e5a0a981",
   "metadata": {},
   "outputs": [],
   "source": [
    "mylist = [\"a\", \"ksdfsdfdsf\",\"k\",1,2,2,2]"
   ]
  },
  {
   "cell_type": "code",
   "execution_count": 12,
   "id": "e728a5a6",
   "metadata": {},
   "outputs": [
    {
     "data": {
      "text/plain": [
       "Counter({'a': 1, 'ksdfsdfdsf': 1, 'k': 1, 1: 1, 2: 3})"
      ]
     },
     "execution_count": 12,
     "metadata": {},
     "output_type": "execute_result"
    }
   ],
   "source": [
    "Counter(mylist)"
   ]
  },
  {
   "cell_type": "code",
   "execution_count": 16,
   "id": "a31e83cb",
   "metadata": {},
   "outputs": [
    {
     "data": {
      "text/plain": [
       "Counter({'ö': 3, 'l': 2, 'a': 1, 'k': 3, 'j': 3, 'f': 3, 's': 1, 'd': 1})"
      ]
     },
     "execution_count": 16,
     "metadata": {},
     "output_type": "execute_result"
    }
   ],
   "source": [
    "Counter(\"ölakjflökfjsökfjd\")"
   ]
  },
  {
   "cell_type": "code",
   "execution_count": 17,
   "id": "9113b890",
   "metadata": {},
   "outputs": [
    {
     "data": {
      "text/plain": [
       "Counter({'lskjfaödsjfdöskfj': 1})"
      ]
     },
     "execution_count": 17,
     "metadata": {},
     "output_type": "execute_result"
    }
   ],
   "source": [
    "Counter(mylist1)"
   ]
  },
  {
   "cell_type": "code",
   "execution_count": 18,
   "id": "9c9431a3",
   "metadata": {},
   "outputs": [],
   "source": [
    "sentence = \"How many times does each word show up in this sentence with a word\""
   ]
  },
  {
   "cell_type": "code",
   "execution_count": 22,
   "id": "2438685e",
   "metadata": {},
   "outputs": [
    {
     "data": {
      "text/plain": [
       "Counter({'how': 1,\n",
       "         'many': 1,\n",
       "         'times': 1,\n",
       "         'does': 1,\n",
       "         'each': 1,\n",
       "         'word': 2,\n",
       "         'show': 1,\n",
       "         'up': 1,\n",
       "         'in': 1,\n",
       "         'this': 1,\n",
       "         'sentence': 1,\n",
       "         'with': 1,\n",
       "         'a': 1})"
      ]
     },
     "execution_count": 22,
     "metadata": {},
     "output_type": "execute_result"
    }
   ],
   "source": [
    "Counter(sentence.lower().split())"
   ]
  },
  {
   "cell_type": "code",
   "execution_count": 24,
   "id": "fcf47eef",
   "metadata": {},
   "outputs": [],
   "source": [
    "letters = \"aösfjölkfjdösfkjdfdfdsfdsfdfdfd\""
   ]
  },
  {
   "cell_type": "code",
   "execution_count": 26,
   "id": "ed7a1b9a",
   "metadata": {},
   "outputs": [],
   "source": [
    "c = Counter(letters)"
   ]
  },
  {
   "cell_type": "code",
   "execution_count": 29,
   "id": "e8f932d2",
   "metadata": {},
   "outputs": [
    {
     "data": {
      "text/plain": [
       "Counter({'a': 1, 'ö': 3, 's': 4, 'f': 9, 'j': 3, 'l': 1, 'k': 2, 'd': 8})"
      ]
     },
     "execution_count": 29,
     "metadata": {},
     "output_type": "execute_result"
    }
   ],
   "source": [
    "c"
   ]
  },
  {
   "cell_type": "code",
   "execution_count": 34,
   "id": "d6efdc1b",
   "metadata": {},
   "outputs": [
    {
     "data": {
      "text/plain": [
       "[('f', 9),\n",
       " ('d', 8),\n",
       " ('s', 4),\n",
       " ('ö', 3),\n",
       " ('j', 3),\n",
       " ('k', 2),\n",
       " ('a', 1),\n",
       " ('l', 1)]"
      ]
     },
     "execution_count": 34,
     "metadata": {},
     "output_type": "execute_result"
    }
   ],
   "source": [
    "c.most_common()"
   ]
  },
  {
   "cell_type": "code",
   "execution_count": 35,
   "id": "53fede00",
   "metadata": {},
   "outputs": [],
   "source": [
    "from collections import defaultdict"
   ]
  },
  {
   "cell_type": "code",
   "execution_count": 36,
   "id": "3e7d53a8",
   "metadata": {},
   "outputs": [],
   "source": [
    "d = {\"a\":10}"
   ]
  },
  {
   "cell_type": "code",
   "execution_count": 38,
   "id": "201b1269",
   "metadata": {},
   "outputs": [
    {
     "data": {
      "text/plain": [
       "10"
      ]
     },
     "execution_count": 38,
     "metadata": {},
     "output_type": "execute_result"
    }
   ],
   "source": [
    "d[\"a\"]"
   ]
  },
  {
   "cell_type": "code",
   "execution_count": 40,
   "id": "4443ef8a",
   "metadata": {},
   "outputs": [
    {
     "ename": "KeyError",
     "evalue": "'WRONG'",
     "output_type": "error",
     "traceback": [
      "\u001b[0;31m---------------------------------------------------------------------------\u001b[0m",
      "\u001b[0;31mKeyError\u001b[0m                                  Traceback (most recent call last)",
      "Cell \u001b[0;32mIn[40], line 1\u001b[0m\n\u001b[0;32m----> 1\u001b[0m d[\u001b[38;5;124m\"\u001b[39m\u001b[38;5;124mWRONG\u001b[39m\u001b[38;5;124m\"\u001b[39m]\n",
      "\u001b[0;31mKeyError\u001b[0m: 'WRONG'"
     ]
    }
   ],
   "source": [
    "d[\"WRONG\"]"
   ]
  },
  {
   "cell_type": "code",
   "execution_count": 41,
   "id": "56094664",
   "metadata": {},
   "outputs": [],
   "source": [
    "d = defaultdict(lambda:0)"
   ]
  },
  {
   "cell_type": "code",
   "execution_count": 42,
   "id": "6646d625",
   "metadata": {},
   "outputs": [],
   "source": [
    "d[\"correct\"] = 100"
   ]
  },
  {
   "cell_type": "code",
   "execution_count": 44,
   "id": "99f90756",
   "metadata": {},
   "outputs": [
    {
     "data": {
      "text/plain": [
       "100"
      ]
     },
     "execution_count": 44,
     "metadata": {},
     "output_type": "execute_result"
    }
   ],
   "source": [
    "d[\"correct\"]"
   ]
  },
  {
   "cell_type": "code",
   "execution_count": 45,
   "id": "aa802675",
   "metadata": {},
   "outputs": [
    {
     "data": {
      "text/plain": [
       "0"
      ]
     },
     "execution_count": 45,
     "metadata": {},
     "output_type": "execute_result"
    }
   ],
   "source": [
    "d[\"WRONG\"]"
   ]
  },
  {
   "cell_type": "code",
   "execution_count": 46,
   "id": "8d886846",
   "metadata": {},
   "outputs": [],
   "source": [
    "mytuple = (10,20,30)"
   ]
  },
  {
   "cell_type": "code",
   "execution_count": 48,
   "id": "0edd180e",
   "metadata": {},
   "outputs": [
    {
     "data": {
      "text/plain": [
       "10"
      ]
     },
     "execution_count": 48,
     "metadata": {},
     "output_type": "execute_result"
    }
   ],
   "source": [
    "mytuple[0]"
   ]
  },
  {
   "cell_type": "code",
   "execution_count": 49,
   "id": "d839ca7f",
   "metadata": {},
   "outputs": [],
   "source": [
    "from collections import namedtuple"
   ]
  },
  {
   "cell_type": "code",
   "execution_count": 50,
   "id": "3788f5fb",
   "metadata": {},
   "outputs": [],
   "source": [
    "Dog = namedtuple(\"Dog\",[\"age\",\"breed\",\"name\"])"
   ]
  },
  {
   "cell_type": "code",
   "execution_count": 52,
   "id": "60e96edf",
   "metadata": {},
   "outputs": [],
   "source": [
    "sammy = Dog(age=5,breed=\"Husky\",name=\"Sam\")"
   ]
  },
  {
   "cell_type": "code",
   "execution_count": 54,
   "id": "ad6695d2",
   "metadata": {},
   "outputs": [
    {
     "data": {
      "text/plain": [
       "__main__.Dog"
      ]
     },
     "execution_count": 54,
     "metadata": {},
     "output_type": "execute_result"
    }
   ],
   "source": [
    "type(sammy)"
   ]
  },
  {
   "cell_type": "code",
   "execution_count": 56,
   "id": "109a4114",
   "metadata": {},
   "outputs": [
    {
     "data": {
      "text/plain": [
       "Dog(age=5, breed='Husky', name='Sam')"
      ]
     },
     "execution_count": 56,
     "metadata": {},
     "output_type": "execute_result"
    }
   ],
   "source": [
    "sammy"
   ]
  },
  {
   "cell_type": "code",
   "execution_count": 58,
   "id": "1d557594",
   "metadata": {},
   "outputs": [
    {
     "data": {
      "text/plain": [
       "5"
      ]
     },
     "execution_count": 58,
     "metadata": {},
     "output_type": "execute_result"
    }
   ],
   "source": [
    "sammy.age"
   ]
  },
  {
   "cell_type": "code",
   "execution_count": 60,
   "id": "8532c18a",
   "metadata": {},
   "outputs": [
    {
     "data": {
      "text/plain": [
       "'Sam'"
      ]
     },
     "execution_count": 60,
     "metadata": {},
     "output_type": "execute_result"
    }
   ],
   "source": [
    "sammy.name"
   ]
  },
  {
   "cell_type": "code",
   "execution_count": 63,
   "id": "ead5cc4b",
   "metadata": {},
   "outputs": [
    {
     "data": {
      "text/plain": [
       "'/Users/siver.rajab/Desktop/Python_Programmierung'"
      ]
     },
     "execution_count": 63,
     "metadata": {},
     "output_type": "execute_result"
    }
   ],
   "source": [
    "pwd "
   ]
  },
  {
   "cell_type": "code",
   "execution_count": 65,
   "id": "37dc5b04",
   "metadata": {},
   "outputs": [],
   "source": [
    "f = open(\"practice.txt\", \"w+\")\n",
    "f.write(\"This is a test string\")\n",
    "f.close()"
   ]
  },
  {
   "cell_type": "code",
   "execution_count": 67,
   "id": "4bc27947",
   "metadata": {},
   "outputs": [],
   "source": [
    "import os "
   ]
  },
  {
   "cell_type": "code",
   "execution_count": 68,
   "id": "6baa3067",
   "metadata": {},
   "outputs": [
    {
     "data": {
      "text/plain": [
       "'/Users/siver.rajab/Desktop/Python_Programmierung'"
      ]
     },
     "execution_count": 68,
     "metadata": {},
     "output_type": "execute_result"
    }
   ],
   "source": [
    "os.getcwd()"
   ]
  },
  {
   "cell_type": "code",
   "execution_count": 69,
   "id": "5107136c",
   "metadata": {},
   "outputs": [
    {
     "data": {
      "text/plain": [
       "['aldksfjdsölkfdaölsfkj.txt',\n",
       " 'one.py',\n",
       " 'Decorators.ipynb',\n",
       " 'test_cap.py',\n",
       " 'Untitled1.ipynb',\n",
       " '.DS_Store',\n",
       " 'object_oriented_programming.ipynb',\n",
       " 'mythirdnotebook.ipynb',\n",
       " 'Untitled.ipynb',\n",
       " 'Modules.ipynb',\n",
       " 'cap.py',\n",
       " 'practice.txt',\n",
       " 'my_new_file.txt',\n",
       " 'two.py',\n",
       " 'mysecondnotebook.ipynb',\n",
       " 'beispiel.py',\n",
       " 'myfirnstnotebook.ipynb',\n",
       " '__pycache__',\n",
       " 'Milestone_Project_1.ipynb',\n",
       " 'simple1.py',\n",
       " 'myprogramm.py',\n",
       " 'Milestone_Project_2.py.ipynb',\n",
       " 'myexample.py',\n",
       " 'MyMainPackage',\n",
       " 'mymodule.py',\n",
       " 'Einfaches_Fenster_Programmieren.ipynb',\n",
       " 'myfile.txt',\n",
       " '.ipynb_checkpoints',\n",
       " 'testfile.txt',\n",
       " 'testfile',\n",
       " 'Ausfuehrdatei.py']"
      ]
     },
     "execution_count": 69,
     "metadata": {},
     "output_type": "execute_result"
    }
   ],
   "source": [
    "os.listdir()"
   ]
  },
  {
   "cell_type": "code",
   "execution_count": 135,
   "id": "2322b4e7",
   "metadata": {},
   "outputs": [],
   "source": [
    "import shutil"
   ]
  },
  {
   "cell_type": "code",
   "execution_count": 136,
   "id": "a450ce93",
   "metadata": {},
   "outputs": [
    {
     "ename": "FileNotFoundError",
     "evalue": "[Errno 2] No such file or directory: '/Users/siver.rajab/Desktop/practice.txt'",
     "output_type": "error",
     "traceback": [
      "\u001b[0;31m---------------------------------------------------------------------------\u001b[0m",
      "\u001b[0;31mFileNotFoundError\u001b[0m                         Traceback (most recent call last)",
      "File \u001b[0;32m~/anaconda3/lib/python3.11/shutil.py:825\u001b[0m, in \u001b[0;36mmove\u001b[0;34m(src, dst, copy_function)\u001b[0m\n\u001b[1;32m    824\u001b[0m \u001b[38;5;28;01mtry\u001b[39;00m:\n\u001b[0;32m--> 825\u001b[0m     os\u001b[38;5;241m.\u001b[39mrename(src, real_dst)\n\u001b[1;32m    826\u001b[0m \u001b[38;5;28;01mexcept\u001b[39;00m \u001b[38;5;167;01mOSError\u001b[39;00m:\n",
      "\u001b[0;31mFileNotFoundError\u001b[0m: [Errno 2] No such file or directory: '/Users/siver.rajab/Desktop/practice.txt' -> '/Users/siver.rajab/Desktop/Python_Programmierung/practice.txt'",
      "\nDuring handling of the above exception, another exception occurred:\n",
      "\u001b[0;31mFileNotFoundError\u001b[0m                         Traceback (most recent call last)",
      "Cell \u001b[0;32mIn[136], line 1\u001b[0m\n\u001b[0;32m----> 1\u001b[0m shutil\u001b[38;5;241m.\u001b[39mmove(\u001b[38;5;124m\"\u001b[39m\u001b[38;5;124m/Users/siver.rajab/Desktop/practice.txt\u001b[39m\u001b[38;5;124m\"\u001b[39m, os\u001b[38;5;241m.\u001b[39mgetcwd())\n",
      "File \u001b[0;32m~/anaconda3/lib/python3.11/shutil.py:845\u001b[0m, in \u001b[0;36mmove\u001b[0;34m(src, dst, copy_function)\u001b[0m\n\u001b[1;32m    843\u001b[0m         rmtree(src)\n\u001b[1;32m    844\u001b[0m     \u001b[38;5;28;01melse\u001b[39;00m:\n\u001b[0;32m--> 845\u001b[0m         copy_function(src, real_dst)\n\u001b[1;32m    846\u001b[0m         os\u001b[38;5;241m.\u001b[39munlink(src)\n\u001b[1;32m    847\u001b[0m \u001b[38;5;28;01mreturn\u001b[39;00m real_dst\n",
      "File \u001b[0;32m~/anaconda3/lib/python3.11/shutil.py:436\u001b[0m, in \u001b[0;36mcopy2\u001b[0;34m(src, dst, follow_symlinks)\u001b[0m\n\u001b[1;32m    434\u001b[0m \u001b[38;5;28;01mif\u001b[39;00m os\u001b[38;5;241m.\u001b[39mpath\u001b[38;5;241m.\u001b[39misdir(dst):\n\u001b[1;32m    435\u001b[0m     dst \u001b[38;5;241m=\u001b[39m os\u001b[38;5;241m.\u001b[39mpath\u001b[38;5;241m.\u001b[39mjoin(dst, os\u001b[38;5;241m.\u001b[39mpath\u001b[38;5;241m.\u001b[39mbasename(src))\n\u001b[0;32m--> 436\u001b[0m copyfile(src, dst, follow_symlinks\u001b[38;5;241m=\u001b[39mfollow_symlinks)\n\u001b[1;32m    437\u001b[0m copystat(src, dst, follow_symlinks\u001b[38;5;241m=\u001b[39mfollow_symlinks)\n\u001b[1;32m    438\u001b[0m \u001b[38;5;28;01mreturn\u001b[39;00m dst\n",
      "File \u001b[0;32m~/anaconda3/lib/python3.11/shutil.py:256\u001b[0m, in \u001b[0;36mcopyfile\u001b[0;34m(src, dst, follow_symlinks)\u001b[0m\n\u001b[1;32m    254\u001b[0m     os\u001b[38;5;241m.\u001b[39msymlink(os\u001b[38;5;241m.\u001b[39mreadlink(src), dst)\n\u001b[1;32m    255\u001b[0m \u001b[38;5;28;01melse\u001b[39;00m:\n\u001b[0;32m--> 256\u001b[0m     \u001b[38;5;28;01mwith\u001b[39;00m \u001b[38;5;28mopen\u001b[39m(src, \u001b[38;5;124m'\u001b[39m\u001b[38;5;124mrb\u001b[39m\u001b[38;5;124m'\u001b[39m) \u001b[38;5;28;01mas\u001b[39;00m fsrc:\n\u001b[1;32m    257\u001b[0m         \u001b[38;5;28;01mtry\u001b[39;00m:\n\u001b[1;32m    258\u001b[0m             \u001b[38;5;28;01mwith\u001b[39;00m \u001b[38;5;28mopen\u001b[39m(dst, \u001b[38;5;124m'\u001b[39m\u001b[38;5;124mwb\u001b[39m\u001b[38;5;124m'\u001b[39m) \u001b[38;5;28;01mas\u001b[39;00m fdst:\n\u001b[1;32m    259\u001b[0m                 \u001b[38;5;66;03m# macOS\u001b[39;00m\n",
      "\u001b[0;31mFileNotFoundError\u001b[0m: [Errno 2] No such file or directory: '/Users/siver.rajab/Desktop/practice.txt'"
     ]
    }
   ],
   "source": [
    "shutil.move(\"/Users/siver.rajab/Desktop/practice.txt\", os.getcwd())"
   ]
  },
  {
   "cell_type": "code",
   "execution_count": 137,
   "id": "cfeada5b",
   "metadata": {},
   "outputs": [
    {
     "data": {
      "text/plain": [
       "['aldksfjdsölkfdaölsfkj.txt',\n",
       " 'one.py',\n",
       " 'Decorators.ipynb',\n",
       " 'test_cap.py',\n",
       " 'Untitled1.ipynb',\n",
       " '.DS_Store',\n",
       " 'object_oriented_programming.ipynb',\n",
       " 'mythirdnotebook.ipynb',\n",
       " 'Untitled.ipynb',\n",
       " 'Modules.ipynb',\n",
       " 'cap.py',\n",
       " 'my_new_file.txt',\n",
       " 'two.py',\n",
       " 'mysecondnotebook.ipynb',\n",
       " 'beispiel.py',\n",
       " 'myfirnstnotebook.ipynb',\n",
       " '__pycache__',\n",
       " 'Milestone_Project_1.ipynb',\n",
       " 'simple1.py',\n",
       " 'myprogramm.py',\n",
       " 'Milestone_Project_2.py.ipynb',\n",
       " 'myexample.py',\n",
       " 'MyMainPackage',\n",
       " 'mymodule.py',\n",
       " 'Einfaches_Fenster_Programmieren.ipynb',\n",
       " 'myfile.txt',\n",
       " '.ipynb_checkpoints',\n",
       " 'testfile.txt',\n",
       " 'testfile',\n",
       " 'Ausfuehrdatei.py']"
      ]
     },
     "execution_count": 137,
     "metadata": {},
     "output_type": "execute_result"
    }
   ],
   "source": [
    "os.listdir()"
   ]
  },
  {
   "cell_type": "code",
   "execution_count": 110,
   "id": "a596a1bd",
   "metadata": {},
   "outputs": [],
   "source": [
    "import send2trash"
   ]
  },
  {
   "cell_type": "code",
   "execution_count": 111,
   "id": "175b3350",
   "metadata": {},
   "outputs": [
    {
     "data": {
      "text/plain": [
       "['aldksfjdsölkfdaölsfkj.txt',\n",
       " 'one.py',\n",
       " 'Decorators.ipynb',\n",
       " 'test_cap.py',\n",
       " 'Untitled1.ipynb',\n",
       " '.DS_Store',\n",
       " 'object_oriented_programming.ipynb',\n",
       " 'mythirdnotebook.ipynb',\n",
       " 'Untitled.ipynb',\n",
       " 'Modules.ipynb',\n",
       " 'cap.py',\n",
       " 'my_new_file.txt',\n",
       " 'two.py',\n",
       " 'mysecondnotebook.ipynb',\n",
       " 'beispiel.py',\n",
       " 'myfirnstnotebook.ipynb',\n",
       " '__pycache__',\n",
       " 'Milestone_Project_1.ipynb',\n",
       " 'simple1.py',\n",
       " 'myprogramm.py',\n",
       " 'Milestone_Project_2.py.ipynb',\n",
       " 'myexample.py',\n",
       " 'MyMainPackage',\n",
       " 'mymodule.py',\n",
       " 'Einfaches_Fenster_Programmieren.ipynb',\n",
       " 'myfile.txt',\n",
       " '.ipynb_checkpoints',\n",
       " 'testfile.txt',\n",
       " 'testfile',\n",
       " 'Ausfuehrdatei.py']"
      ]
     },
     "execution_count": 111,
     "metadata": {},
     "output_type": "execute_result"
    }
   ],
   "source": [
    "os.listdir()"
   ]
  },
  {
   "cell_type": "code",
   "execution_count": 138,
   "id": "a2418bb5",
   "metadata": {},
   "outputs": [
    {
     "ename": "OSError",
     "evalue": "The file doesn’t exist.",
     "output_type": "error",
     "traceback": [
      "\u001b[0;31m---------------------------------------------------------------------------\u001b[0m",
      "\u001b[0;31mOSError\u001b[0m                                   Traceback (most recent call last)",
      "Cell \u001b[0;32mIn[138], line 1\u001b[0m\n\u001b[0;32m----> 1\u001b[0m send2trash\u001b[38;5;241m.\u001b[39msend2trash(\u001b[38;5;124m\"\u001b[39m\u001b[38;5;124mpractice.txt\u001b[39m\u001b[38;5;124m\"\u001b[39m)\n",
      "File \u001b[0;32m~/anaconda3/lib/python3.11/site-packages/send2trash/plat_osx_pyobjc.py:29\u001b[0m, in \u001b[0;36msend2trash\u001b[0;34m(paths)\u001b[0m\n\u001b[1;32m     27\u001b[0m fm \u001b[38;5;241m=\u001b[39m NSFileManager\u001b[38;5;241m.\u001b[39mdefaultManager()\n\u001b[1;32m     28\u001b[0m op_result \u001b[38;5;241m=\u001b[39m fm\u001b[38;5;241m.\u001b[39mtrashItemAtURL_resultingItemURL_error_(file_url, \u001b[38;5;28;01mNone\u001b[39;00m, \u001b[38;5;28;01mNone\u001b[39;00m)\n\u001b[0;32m---> 29\u001b[0m check_op_result(op_result)\n",
      "File \u001b[0;32m~/anaconda3/lib/python3.11/site-packages/send2trash/plat_osx_pyobjc.py:16\u001b[0m, in \u001b[0;36mcheck_op_result\u001b[0;34m(op_result)\u001b[0m\n\u001b[1;32m     12\u001b[0m \u001b[38;5;28;01mdef\u001b[39;00m \u001b[38;5;21mcheck_op_result\u001b[39m(op_result):\n\u001b[1;32m     13\u001b[0m     \u001b[38;5;66;03m# First value will be false on failure\u001b[39;00m\n\u001b[1;32m     14\u001b[0m     \u001b[38;5;28;01mif\u001b[39;00m \u001b[38;5;129;01mnot\u001b[39;00m op_result[\u001b[38;5;241m0\u001b[39m]:\n\u001b[1;32m     15\u001b[0m         \u001b[38;5;66;03m# Error is in third value, localized failure reason matchs ctypes version\u001b[39;00m\n\u001b[0;32m---> 16\u001b[0m         \u001b[38;5;28;01mraise\u001b[39;00m \u001b[38;5;167;01mOSError\u001b[39;00m(op_result[\u001b[38;5;241m2\u001b[39m]\u001b[38;5;241m.\u001b[39mlocalizedFailureReason())\n",
      "\u001b[0;31mOSError\u001b[0m: The file doesn’t exist."
     ]
    }
   ],
   "source": [
    "send2trash.send2trash(\"practice.txt\")"
   ]
  },
  {
   "cell_type": "code",
   "execution_count": 140,
   "id": "c1e92ec3",
   "metadata": {},
   "outputs": [
    {
     "data": {
      "text/plain": [
       "['aldksfjdsölkfdaölsfkj.txt',\n",
       " 'one.py',\n",
       " 'Decorators.ipynb',\n",
       " 'test_cap.py',\n",
       " 'Untitled1.ipynb',\n",
       " '.DS_Store',\n",
       " 'object_oriented_programming.ipynb',\n",
       " 'mythirdnotebook.ipynb',\n",
       " 'Untitled.ipynb',\n",
       " 'Modules.ipynb',\n",
       " 'cap.py',\n",
       " 'my_new_file.txt',\n",
       " 'two.py',\n",
       " 'mysecondnotebook.ipynb',\n",
       " 'beispiel.py',\n",
       " 'myfirnstnotebook.ipynb',\n",
       " '__pycache__',\n",
       " 'Milestone_Project_1.ipynb',\n",
       " 'simple1.py',\n",
       " 'myprogramm.py',\n",
       " 'Milestone_Project_2.py.ipynb',\n",
       " 'myexample.py',\n",
       " 'MyMainPackage',\n",
       " 'mymodule.py',\n",
       " 'Einfaches_Fenster_Programmieren.ipynb',\n",
       " 'myfile.txt',\n",
       " '.ipynb_checkpoints',\n",
       " 'testfile.txt',\n",
       " 'testfile',\n",
       " 'Ausfuehrdatei.py']"
      ]
     },
     "execution_count": 140,
     "metadata": {},
     "output_type": "execute_result"
    }
   ],
   "source": [
    "os.listdir()"
   ]
  },
  {
   "cell_type": "code",
   "execution_count": null,
   "id": "2c37e75b",
   "metadata": {},
   "outputs": [],
   "source": []
  },
  {
   "cell_type": "code",
   "execution_count": 145,
   "id": "75a4aeac",
   "metadata": {},
   "outputs": [
    {
     "data": {
      "text/plain": [
       "'/Users/siver.rajab/Desktop/Python_Programmierung'"
      ]
     },
     "execution_count": 145,
     "metadata": {},
     "output_type": "execute_result"
    }
   ],
   "source": [
    "os.getcwd()"
   ]
  },
  {
   "cell_type": "code",
   "execution_count": null,
   "id": "73bec5f8",
   "metadata": {},
   "outputs": [],
   "source": []
  },
  {
   "cell_type": "code",
   "execution_count": 150,
   "id": "981b7864",
   "metadata": {},
   "outputs": [],
   "source": [
    "file_path = '/Users/siver.rajab/Desktop/Python_Programmierung/myfile.txt'"
   ]
  },
  {
   "cell_type": "code",
   "execution_count": 155,
   "id": "43de7c8c",
   "metadata": {},
   "outputs": [
    {
     "name": "stdout",
     "output_type": "stream",
     "text": [
      "Currently looking at /Users/siver.rajab/Desktop/Python_Programmierung\n",
      "\n",
      "\n",
      "The subfolders are: \n",
      "\t Subfolder: __pycache__\n",
      "\t Subfolder: MyMainPackage\n",
      "\t Subfolder: .ipynb_checkpoints\n",
      "\n",
      "\n",
      "the files are: \n",
      "File: aldksfjdsölkfdaölsfkj.txt\n",
      "File: one.py\n",
      "File: Decorators.ipynb\n",
      "File: test_cap.py\n",
      "File: Untitled1.ipynb\n",
      "File: .DS_Store\n",
      "File: object_oriented_programming.ipynb\n",
      "File: mythirdnotebook.ipynb\n",
      "File: Untitled.ipynb\n",
      "File: Modules.ipynb\n",
      "File: cap.py\n",
      "File: my_new_file.txt\n",
      "File: two.py\n",
      "File: mysecondnotebook.ipynb\n",
      "File: beispiel.py\n",
      "File: myfirnstnotebook.ipynb\n",
      "File: Milestone_Project_1.ipynb\n",
      "File: simple1.py\n",
      "File: myprogramm.py\n",
      "File: Milestone_Project_2.py.ipynb\n",
      "File: myexample.py\n",
      "File: mymodule.py\n",
      "File: Einfaches_Fenster_Programmieren.ipynb\n",
      "File: myfile.txt\n",
      "File: testfile.txt\n",
      "File: testfile\n",
      "File: Ausfuehrdatei.py\n",
      "\n",
      "\n",
      "Currently looking at /Users/siver.rajab/Desktop/Python_Programmierung/__pycache__\n",
      "\n",
      "\n",
      "The subfolders are: \n",
      "\n",
      "\n",
      "the files are: \n",
      "File: mymodule.cpython-311.pyc\n",
      "File: one.cpython-311.pyc\n",
      "File: cap.cpython-311.pyc\n",
      "\n",
      "\n",
      "Currently looking at /Users/siver.rajab/Desktop/Python_Programmierung/MyMainPackage\n",
      "\n",
      "\n",
      "The subfolders are: \n",
      "\t Subfolder: __pycache__\n",
      "\t Subfolder: SubPackage\n",
      "\n",
      "\n",
      "the files are: \n",
      "File: .DS_Store\n",
      "File: __init__.py\n",
      "File: some_main_script.py\n",
      "\n",
      "\n",
      "Currently looking at /Users/siver.rajab/Desktop/Python_Programmierung/MyMainPackage/__pycache__\n",
      "\n",
      "\n",
      "The subfolders are: \n",
      "\n",
      "\n",
      "the files are: \n",
      "File: some_main_script.cpython-311.pyc\n",
      "File: __init__.cpython-311.pyc\n",
      "\n",
      "\n",
      "Currently looking at /Users/siver.rajab/Desktop/Python_Programmierung/MyMainPackage/SubPackage\n",
      "\n",
      "\n",
      "The subfolders are: \n",
      "\t Subfolder: __pycache__\n",
      "\n",
      "\n",
      "the files are: \n",
      "File: __init__.py\n",
      "File: my_sub_script.py\n",
      "\n",
      "\n",
      "Currently looking at /Users/siver.rajab/Desktop/Python_Programmierung/MyMainPackage/SubPackage/__pycache__\n",
      "\n",
      "\n",
      "The subfolders are: \n",
      "\n",
      "\n",
      "the files are: \n",
      "File: my_sub_script.cpython-311.pyc\n",
      "File: __init__.cpython-311.pyc\n",
      "\n",
      "\n",
      "Currently looking at /Users/siver.rajab/Desktop/Python_Programmierung/.ipynb_checkpoints\n",
      "\n",
      "\n",
      "The subfolders are: \n",
      "\n",
      "\n",
      "the files are: \n",
      "File: Milestone_Project_2.py-checkpoint.ipynb\n",
      "File: Modules-checkpoint.ipynb\n",
      "File: myfirnstnotebook-checkpoint.ipynb\n",
      "File: Decorators-checkpoint.ipynb\n",
      "File: Untitled1-checkpoint.ipynb\n",
      "File: Einfaches_Fenster_Programmieren-checkpoint.ipynb\n",
      "File: Ausfuehrdatei-checkpoint.py\n",
      "File: object_oriented_programming-checkpoint.ipynb\n",
      "\n",
      "\n"
     ]
    }
   ],
   "source": [
    "import os\n",
    "\n",
    "for folder, sub_folders,files in os.walk(os.getcwd()):\n",
    "    print(f\"Currently looking at {folder}\")\n",
    "    print(\"\\n\")\n",
    "    print(\"The subfolders are: \")\n",
    "    for sub_fold in sub_folders: \n",
    "        print(f\"\\t Subfolder: {sub_fold}\")\n",
    "        \n",
    "    print(\"\\n\")\n",
    "    print(\"the files are: \")\n",
    "    for f in files:\n",
    "        print(f\"File: {f}\")\n",
    "        \n",
    "    print(\"\\n\")"
   ]
  }
 ],
 "metadata": {
  "kernelspec": {
   "display_name": "Python 3 (ipykernel)",
   "language": "python",
   "name": "python3"
  },
  "language_info": {
   "codemirror_mode": {
    "name": "ipython",
    "version": 3
   },
   "file_extension": ".py",
   "mimetype": "text/x-python",
   "name": "python",
   "nbconvert_exporter": "python",
   "pygments_lexer": "ipython3",
   "version": "3.11.4"
  }
 },
 "nbformat": 4,
 "nbformat_minor": 5
}
