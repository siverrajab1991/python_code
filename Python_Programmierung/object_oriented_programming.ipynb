{
 "cells": [
  {
   "cell_type": "code",
   "execution_count": 1,
   "id": "42a6f4ce",
   "metadata": {},
   "outputs": [],
   "source": [
    "mylist = [1,2,3]"
   ]
  },
  {
   "cell_type": "code",
   "execution_count": 2,
   "id": "7153b594",
   "metadata": {},
   "outputs": [],
   "source": [
    "myset = set()"
   ]
  },
  {
   "cell_type": "code",
   "execution_count": 27,
   "id": "f637a85d",
   "metadata": {},
   "outputs": [],
   "source": [
    "class Dog():\n",
    "    \n",
    "    #Class Object Attribute\n",
    "    # Same for any instance of a class\n",
    "    \n",
    "    species = \"mammal\"\n",
    "    \n",
    "    \n",
    "    def __init__(self,breed,name):\n",
    "        \n",
    "        self.breed = breed\n",
    "        self.name = name\n",
    "\n",
    "        \n",
    "    \n",
    "    #Operations/Actions --> Methods\n",
    "    \n",
    "    def bark(self,number):\n",
    "        print(\"WOOF! My name is {} and the number is {}\".format(self.name,number))"
   ]
  },
  {
   "cell_type": "code",
   "execution_count": 29,
   "id": "e7a238d3",
   "metadata": {},
   "outputs": [],
   "source": [
    "my_dog = Dog(\"Lab\",\"Frankie\")"
   ]
  },
  {
   "cell_type": "code",
   "execution_count": 24,
   "id": "92a5cd6d",
   "metadata": {},
   "outputs": [
    {
     "ename": "TypeError",
     "evalue": "Dog.__init__() got an unexpected keyword argument 'spots'",
     "output_type": "error",
     "traceback": [
      "\u001b[0;31m---------------------------------------------------------------------------\u001b[0m",
      "\u001b[0;31mTypeError\u001b[0m                                 Traceback (most recent call last)",
      "Cell \u001b[0;32mIn[24], line 1\u001b[0m\n\u001b[0;32m----> 1\u001b[0m my_dog1 \u001b[38;5;241m=\u001b[39m Dog(breed\u001b[38;5;241m=\u001b[39m\u001b[38;5;124m\"\u001b[39m\u001b[38;5;124mLab\u001b[39m\u001b[38;5;124m\"\u001b[39m,name\u001b[38;5;241m=\u001b[39m\u001b[38;5;124m\"\u001b[39m\u001b[38;5;124mSam\u001b[39m\u001b[38;5;124m\"\u001b[39m,spots\u001b[38;5;241m=\u001b[39m\u001b[38;5;28;01mFalse\u001b[39;00m)\n",
      "\u001b[0;31mTypeError\u001b[0m: Dog.__init__() got an unexpected keyword argument 'spots'"
     ]
    }
   ],
   "source": [
    "my_dog1 = Dog(breed=\"Lab\",name=\"Sam\",spots=False)"
   ]
  },
  {
   "cell_type": "code",
   "execution_count": 5,
   "id": "86e0c5ef",
   "metadata": {},
   "outputs": [
    {
     "data": {
      "text/plain": [
       "__main__.Dog"
      ]
     },
     "execution_count": 5,
     "metadata": {},
     "output_type": "execute_result"
    }
   ],
   "source": [
    "type(my_dog)"
   ]
  },
  {
   "cell_type": "code",
   "execution_count": 17,
   "id": "812b3144",
   "metadata": {},
   "outputs": [
    {
     "name": "stdout",
     "output_type": "stream",
     "text": [
      "WOOF!\n"
     ]
    }
   ],
   "source": [
    "my_dog.bark()"
   ]
  },
  {
   "cell_type": "code",
   "execution_count": 30,
   "id": "1e9ef43c",
   "metadata": {},
   "outputs": [
    {
     "name": "stdout",
     "output_type": "stream",
     "text": [
      "WOOF! My name is Frankie and the number is 9\n"
     ]
    }
   ],
   "source": [
    "my_dog.bark(9)"
   ]
  },
  {
   "cell_type": "code",
   "execution_count": 56,
   "id": "f787a501",
   "metadata": {},
   "outputs": [],
   "source": [
    "import math\n",
    "\n",
    "class Circle():\n",
    "    \n",
    "    #Class object attribute\n",
    "    pi = math.pi\n",
    "    \n",
    "    def __init__(self,radius=1):\n",
    "        \n",
    "        self.radius = radius\n",
    "        self.area = radius*radius*Circle.pi\n",
    "        \n",
    "    \n",
    "    #Method\n",
    "    def get_circumference(self):\n",
    "        return self.radius * Circle.pi * 2"
   ]
  },
  {
   "cell_type": "code",
   "execution_count": 52,
   "id": "52574802",
   "metadata": {},
   "outputs": [],
   "source": [
    "my_circle = Circle(30)"
   ]
  },
  {
   "cell_type": "code",
   "execution_count": 54,
   "id": "8c857359",
   "metadata": {},
   "outputs": [
    {
     "data": {
      "text/plain": [
       "3.141592653589793"
      ]
     },
     "execution_count": 54,
     "metadata": {},
     "output_type": "execute_result"
    }
   ],
   "source": [
    "my_circle.pi"
   ]
  },
  {
   "cell_type": "code",
   "execution_count": 55,
   "id": "1c445de5",
   "metadata": {},
   "outputs": [
    {
     "data": {
      "text/plain": [
       "2827.4333882308138"
      ]
     },
     "execution_count": 55,
     "metadata": {},
     "output_type": "execute_result"
    }
   ],
   "source": [
    "my_circle.area"
   ]
  },
  {
   "cell_type": "code",
   "execution_count": 58,
   "id": "11a1c8c9",
   "metadata": {},
   "outputs": [
    {
     "data": {
      "text/plain": [
       "188.49555921538757"
      ]
     },
     "execution_count": 58,
     "metadata": {},
     "output_type": "execute_result"
    }
   ],
   "source": [
    "my_circle.get_circumference()"
   ]
  },
  {
   "cell_type": "code",
   "execution_count": null,
   "id": "811532b0",
   "metadata": {},
   "outputs": [],
   "source": []
  },
  {
   "cell_type": "code",
   "execution_count": null,
   "id": "a8249da8",
   "metadata": {},
   "outputs": [],
   "source": []
  },
  {
   "cell_type": "code",
   "execution_count": 143,
   "id": "220a54b0",
   "metadata": {},
   "outputs": [],
   "source": [
    "class Car():\n",
    "    \n",
    "    def __init__(self,color,ps,baujahr,tank=60):\n",
    "        \n",
    "        self.color = color\n",
    "        self.ps = ps\n",
    "        self.baujahr = baujahr\n",
    "        self.tank = tank\n",
    "        \n",
    "    \n",
    "    def drive(self,running):\n",
    "        \n",
    "        if running:\n",
    "            if self.tank - 40 >= 0:\n",
    "                self.tank -=40\n",
    "                print(f\"Der Tank beträgt nun {self.tank}\")\n",
    "            else:\n",
    "                print(f\"Der Tank ist leider leer. Du musst tanken\")\n",
    "                running = False\n",
    "        elif not running:\n",
    "            print(f\"Das Auto fährt nicht. der Tank beträgt {self.tank}\")\n",
    "        \n",
    "        \n",
    "    def tanken(self, tanken):\n",
    "        \n",
    "        self.tank += tanken\n",
    "        if self.tank + tanken <= 60:\n",
    "            print(f\"Der Tank beträgt nun {self.tank}\")\n",
    "        elif self.tank + tanken > 61:\n",
    "            self.tank -= tanken\n",
    "            print(f\"Leider überschreitet {tanken} die Tankkapazität. Du kannst lediglich {60-self.tank} tanken\")\n",
    "            \n",
    "    \n",
    "            "
   ]
  },
  {
   "cell_type": "code",
   "execution_count": 146,
   "id": "41386f6c",
   "metadata": {},
   "outputs": [],
   "source": [
    "new_car = Car(\"Blue\",190,2020)"
   ]
  },
  {
   "cell_type": "code",
   "execution_count": 147,
   "id": "9634414f",
   "metadata": {},
   "outputs": [
    {
     "name": "stdout",
     "output_type": "stream",
     "text": [
      "Leider überschreitet 1 die Tankkapazität. Du kannst lediglich 0 tanken\n"
     ]
    }
   ],
   "source": [
    "new_car.tanken(1)"
   ]
  },
  {
   "cell_type": "code",
   "execution_count": 101,
   "id": "a8bc03a6",
   "metadata": {},
   "outputs": [
    {
     "name": "stdout",
     "output_type": "stream",
     "text": [
      "Der Tank ist leider leer. Du musst tanken\n"
     ]
    }
   ],
   "source": [
    "new_car.drive(True)"
   ]
  },
  {
   "cell_type": "code",
   "execution_count": 150,
   "id": "0539565b",
   "metadata": {},
   "outputs": [
    {
     "data": {
      "text/plain": [
       "60"
      ]
     },
     "execution_count": 150,
     "metadata": {},
     "output_type": "execute_result"
    }
   ],
   "source": [
    "new_car.tank"
   ]
  },
  {
   "cell_type": "code",
   "execution_count": null,
   "id": "1b55b54b",
   "metadata": {},
   "outputs": [],
   "source": []
  },
  {
   "cell_type": "code",
   "execution_count": null,
   "id": "1baeea55",
   "metadata": {},
   "outputs": [],
   "source": []
  },
  {
   "cell_type": "code",
   "execution_count": null,
   "id": "7fb3850a",
   "metadata": {},
   "outputs": [],
   "source": []
  },
  {
   "cell_type": "code",
   "execution_count": null,
   "id": "a2b96260",
   "metadata": {},
   "outputs": [],
   "source": []
  },
  {
   "cell_type": "code",
   "execution_count": null,
   "id": "cc891d7d",
   "metadata": {},
   "outputs": [],
   "source": []
  },
  {
   "cell_type": "code",
   "execution_count": null,
   "id": "18c24737",
   "metadata": {},
   "outputs": [],
   "source": []
  },
  {
   "cell_type": "code",
   "execution_count": 154,
   "id": "7abc17d4",
   "metadata": {},
   "outputs": [],
   "source": [
    "class Animal():\n",
    "    \n",
    "    def __init__(self):\n",
    "        \n",
    "        print(\"ANIMAL CREATED!\")\n",
    "        \n",
    "    def who_am_i(self):\n",
    "        print(\"I am an animal\")\n",
    "        \n",
    "    def eat(self):\n",
    "        print(\"i am eating\")"
   ]
  },
  {
   "cell_type": "code",
   "execution_count": 156,
   "id": "b9168ac6",
   "metadata": {},
   "outputs": [
    {
     "name": "stdout",
     "output_type": "stream",
     "text": [
      "ANIMAL CREATED!\n"
     ]
    }
   ],
   "source": [
    "myanimal = Animal()"
   ]
  },
  {
   "cell_type": "code",
   "execution_count": 160,
   "id": "eb06995a",
   "metadata": {},
   "outputs": [
    {
     "name": "stdout",
     "output_type": "stream",
     "text": [
      "i am eating\n"
     ]
    }
   ],
   "source": [
    "myanimal.eat()"
   ]
  },
  {
   "cell_type": "code",
   "execution_count": 169,
   "id": "1c64dea7",
   "metadata": {},
   "outputs": [],
   "source": [
    "class Dog(Animal):\n",
    "    \n",
    "    def __init__(self):\n",
    "        Animal.__init__(self)\n",
    "        print(\"Dog Created\")\n",
    "        \n",
    "        \n",
    "    #def who_am_i(self):\n",
    "        #print(\"I am a dog\")"
   ]
  },
  {
   "cell_type": "code",
   "execution_count": 170,
   "id": "d31c4ce3",
   "metadata": {},
   "outputs": [
    {
     "name": "stdout",
     "output_type": "stream",
     "text": [
      "ANIMAL CREATED!\n",
      "Dog Created\n"
     ]
    }
   ],
   "source": [
    "mydog = Dog()"
   ]
  },
  {
   "cell_type": "code",
   "execution_count": 172,
   "id": "3fd1a76c",
   "metadata": {},
   "outputs": [
    {
     "name": "stdout",
     "output_type": "stream",
     "text": [
      "I am an animal\n"
     ]
    }
   ],
   "source": [
    "mydog.who_am_i()"
   ]
  },
  {
   "cell_type": "code",
   "execution_count": null,
   "id": "1f00085e",
   "metadata": {},
   "outputs": [],
   "source": []
  },
  {
   "cell_type": "code",
   "execution_count": null,
   "id": "88e8bac7",
   "metadata": {},
   "outputs": [],
   "source": []
  },
  {
   "cell_type": "code",
   "execution_count": null,
   "id": "ad4b8a81",
   "metadata": {},
   "outputs": [],
   "source": []
  },
  {
   "cell_type": "code",
   "execution_count": null,
   "id": "a4b26a54",
   "metadata": {},
   "outputs": [],
   "source": []
  },
  {
   "cell_type": "code",
   "execution_count": 182,
   "id": "15e69f96",
   "metadata": {},
   "outputs": [],
   "source": [
    "class Dog():\n",
    "    \n",
    "    def __init__(self,name):\n",
    "        \n",
    "        self.name = name\n",
    "        \n",
    "    def speak(self):\n",
    "        return self.name + \" say woof!\""
   ]
  },
  {
   "cell_type": "code",
   "execution_count": 183,
   "id": "a49d6260",
   "metadata": {},
   "outputs": [],
   "source": [
    "class Cat():\n",
    "    \n",
    "    def __init__(self,name):\n",
    "        \n",
    "        self.name = name\n",
    "        \n",
    "    def speak(self):\n",
    "        return self.name + \" say meow!\""
   ]
  },
  {
   "cell_type": "code",
   "execution_count": 184,
   "id": "9dfad6da",
   "metadata": {},
   "outputs": [],
   "source": [
    "niko = Dog(\"niko\")\n",
    "felix = Cat(\"felix\")"
   ]
  },
  {
   "cell_type": "code",
   "execution_count": 186,
   "id": "2bf8de95",
   "metadata": {},
   "outputs": [
    {
     "name": "stdout",
     "output_type": "stream",
     "text": [
      "niko say woof!\n"
     ]
    }
   ],
   "source": [
    "print(niko.speak())"
   ]
  },
  {
   "cell_type": "code",
   "execution_count": 188,
   "id": "8fdbc38b",
   "metadata": {},
   "outputs": [
    {
     "name": "stdout",
     "output_type": "stream",
     "text": [
      "felix say meow!\n"
     ]
    }
   ],
   "source": [
    "print(felix.speak())"
   ]
  },
  {
   "cell_type": "code",
   "execution_count": null,
   "id": "499c0348",
   "metadata": {},
   "outputs": [],
   "source": []
  },
  {
   "cell_type": "code",
   "execution_count": 190,
   "id": "b2fbd8f0",
   "metadata": {},
   "outputs": [
    {
     "name": "stdout",
     "output_type": "stream",
     "text": [
      "felix say meow!\n",
      "niko say woof!\n"
     ]
    }
   ],
   "source": [
    "for pet in [felix,niko]:\n",
    "    \n",
    "    print(pet.speak())"
   ]
  },
  {
   "cell_type": "code",
   "execution_count": 193,
   "id": "a87c8579",
   "metadata": {},
   "outputs": [],
   "source": [
    "def pet_speak(pet):\n",
    "    print(pet.speak())"
   ]
  },
  {
   "cell_type": "code",
   "execution_count": 196,
   "id": "88adf1be",
   "metadata": {},
   "outputs": [
    {
     "name": "stdout",
     "output_type": "stream",
     "text": [
      "felix say meow!\n"
     ]
    }
   ],
   "source": [
    "pet_speak(felix)"
   ]
  },
  {
   "cell_type": "code",
   "execution_count": 198,
   "id": "4ca99ad7",
   "metadata": {},
   "outputs": [],
   "source": [
    "class Animal():\n",
    "    \n",
    "    def __init__(self,name):\n",
    "        self.name = name\n",
    "        \n",
    "    def speak(self):\n",
    "        raise NotImplementedError(\"Subclass must implement this abstract method\")"
   ]
  },
  {
   "cell_type": "code",
   "execution_count": 199,
   "id": "28eb1c0d",
   "metadata": {},
   "outputs": [],
   "source": [
    "myanimal = Animal(\"Fred\")"
   ]
  },
  {
   "cell_type": "code",
   "execution_count": 201,
   "id": "0331f99c",
   "metadata": {},
   "outputs": [
    {
     "ename": "NotImplementedError",
     "evalue": "Subclass must implement this abstract method",
     "output_type": "error",
     "traceback": [
      "\u001b[0;31m---------------------------------------------------------------------------\u001b[0m",
      "\u001b[0;31mNotImplementedError\u001b[0m                       Traceback (most recent call last)",
      "Cell \u001b[0;32mIn[201], line 1\u001b[0m\n\u001b[0;32m----> 1\u001b[0m myanimal\u001b[38;5;241m.\u001b[39mspeak()\n",
      "Cell \u001b[0;32mIn[198], line 7\u001b[0m, in \u001b[0;36mAnimal.speak\u001b[0;34m(self)\u001b[0m\n\u001b[1;32m      6\u001b[0m \u001b[38;5;28;01mdef\u001b[39;00m \u001b[38;5;21mspeak\u001b[39m(\u001b[38;5;28mself\u001b[39m):\n\u001b[0;32m----> 7\u001b[0m     \u001b[38;5;28;01mraise\u001b[39;00m \u001b[38;5;167;01mNotImplementedError\u001b[39;00m(\u001b[38;5;124m\"\u001b[39m\u001b[38;5;124mSubclass must implement this abstract method\u001b[39m\u001b[38;5;124m\"\u001b[39m)\n",
      "\u001b[0;31mNotImplementedError\u001b[0m: Subclass must implement this abstract method"
     ]
    }
   ],
   "source": [
    "myanimal.speak()"
   ]
  },
  {
   "cell_type": "code",
   "execution_count": null,
   "id": "891183e1",
   "metadata": {},
   "outputs": [],
   "source": []
  },
  {
   "cell_type": "code",
   "execution_count": 203,
   "id": "9d569950",
   "metadata": {},
   "outputs": [],
   "source": [
    "class Dog(Animal):\n",
    "    \n",
    "    def speak(self):\n",
    "        return self.name + \" say woof!\""
   ]
  },
  {
   "cell_type": "code",
   "execution_count": 204,
   "id": "6d7efd47",
   "metadata": {},
   "outputs": [],
   "source": [
    "class Cat(Animal):\n",
    "    \n",
    "    def speak(self):\n",
    "        return self.name + \" say meow!\""
   ]
  },
  {
   "cell_type": "code",
   "execution_count": 207,
   "id": "078e2b78",
   "metadata": {},
   "outputs": [],
   "source": [
    "fido = Dog(\"Fido\")"
   ]
  },
  {
   "cell_type": "code",
   "execution_count": 209,
   "id": "cf04a1c1",
   "metadata": {},
   "outputs": [],
   "source": [
    "isis = Cat(\"Isis\")"
   ]
  },
  {
   "cell_type": "code",
   "execution_count": 214,
   "id": "43f03d78",
   "metadata": {},
   "outputs": [
    {
     "data": {
      "text/plain": [
       "'Fido say woof!'"
      ]
     },
     "execution_count": 214,
     "metadata": {},
     "output_type": "execute_result"
    }
   ],
   "source": [
    "fido.speak()"
   ]
  },
  {
   "cell_type": "code",
   "execution_count": 216,
   "id": "e8ede697",
   "metadata": {},
   "outputs": [
    {
     "data": {
      "text/plain": [
       "'Isis say meow!'"
      ]
     },
     "execution_count": 216,
     "metadata": {},
     "output_type": "execute_result"
    }
   ],
   "source": [
    "isis.speak()"
   ]
  },
  {
   "cell_type": "code",
   "execution_count": null,
   "id": "9d3e482f",
   "metadata": {},
   "outputs": [],
   "source": []
  },
  {
   "cell_type": "code",
   "execution_count": null,
   "id": "eadb9677",
   "metadata": {},
   "outputs": [],
   "source": []
  },
  {
   "cell_type": "code",
   "execution_count": 217,
   "id": "5696815f",
   "metadata": {},
   "outputs": [],
   "source": [
    "mylist = [1,2,3]"
   ]
  },
  {
   "cell_type": "code",
   "execution_count": 219,
   "id": "505f7cf4",
   "metadata": {},
   "outputs": [
    {
     "data": {
      "text/plain": [
       "3"
      ]
     },
     "execution_count": 219,
     "metadata": {},
     "output_type": "execute_result"
    }
   ],
   "source": [
    "len(mylist)"
   ]
  },
  {
   "cell_type": "code",
   "execution_count": 220,
   "id": "5f96ff2c",
   "metadata": {},
   "outputs": [],
   "source": [
    "class Sample():\n",
    "    pass"
   ]
  },
  {
   "cell_type": "code",
   "execution_count": 221,
   "id": "1e83e4c8",
   "metadata": {},
   "outputs": [],
   "source": [
    "mysaple = Sample()"
   ]
  },
  {
   "cell_type": "code",
   "execution_count": 223,
   "id": "86dbe37d",
   "metadata": {},
   "outputs": [
    {
     "ename": "NameError",
     "evalue": "name 'mysample' is not defined",
     "output_type": "error",
     "traceback": [
      "\u001b[0;31m---------------------------------------------------------------------------\u001b[0m",
      "\u001b[0;31mNameError\u001b[0m                                 Traceback (most recent call last)",
      "Cell \u001b[0;32mIn[223], line 1\u001b[0m\n\u001b[0;32m----> 1\u001b[0m \u001b[38;5;28mlen\u001b[39m(mysample)\n",
      "\u001b[0;31mNameError\u001b[0m: name 'mysample' is not defined"
     ]
    }
   ],
   "source": [
    "len(mysample)"
   ]
  },
  {
   "cell_type": "code",
   "execution_count": null,
   "id": "5a004290",
   "metadata": {},
   "outputs": [],
   "source": []
  },
  {
   "cell_type": "code",
   "execution_count": null,
   "id": "ec8a9e15",
   "metadata": {},
   "outputs": [],
   "source": []
  },
  {
   "cell_type": "code",
   "execution_count": null,
   "id": "67aa5102",
   "metadata": {},
   "outputs": [],
   "source": []
  },
  {
   "cell_type": "code",
   "execution_count": null,
   "id": "53195c2e",
   "metadata": {},
   "outputs": [],
   "source": []
  },
  {
   "cell_type": "code",
   "execution_count": null,
   "id": "0cdb6b0b",
   "metadata": {},
   "outputs": [],
   "source": []
  },
  {
   "cell_type": "code",
   "execution_count": null,
   "id": "e5a0e75c",
   "metadata": {},
   "outputs": [],
   "source": []
  },
  {
   "cell_type": "code",
   "execution_count": null,
   "id": "b4e8c75d",
   "metadata": {},
   "outputs": [],
   "source": []
  },
  {
   "cell_type": "code",
   "execution_count": null,
   "id": "a611358c",
   "metadata": {},
   "outputs": [],
   "source": []
  },
  {
   "cell_type": "code",
   "execution_count": null,
   "id": "f7cd485a",
   "metadata": {},
   "outputs": [],
   "source": []
  },
  {
   "cell_type": "code",
   "execution_count": null,
   "id": "f4feec4d",
   "metadata": {},
   "outputs": [],
   "source": []
  },
  {
   "cell_type": "code",
   "execution_count": 247,
   "id": "8c80e32a",
   "metadata": {},
   "outputs": [],
   "source": [
    "class Book():\n",
    "    \n",
    "    def __init__(self,title,author,pages):\n",
    "        \n",
    "        self.title = title\n",
    "        self.author = author\n",
    "        self.pages = pages \n",
    "        \n",
    "    \n",
    "    def __str__(self):\n",
    "        return f\"{self.title} by {self.author}\"\n",
    "    \n",
    "    def __len__(self):\n",
    "        return self.pages\n",
    "    \n",
    "    def __del__(self):\n",
    "        print(\"A book object has been deleted\")\n",
    "    "
   ]
  },
  {
   "cell_type": "code",
   "execution_count": 242,
   "id": "77704c91",
   "metadata": {},
   "outputs": [],
   "source": [
    "b = Book(\"Python rocks\", \"Jose\", 200)"
   ]
  },
  {
   "cell_type": "code",
   "execution_count": 243,
   "id": "90099314",
   "metadata": {},
   "outputs": [
    {
     "name": "stdout",
     "output_type": "stream",
     "text": [
      "Python rocks by Jose\n"
     ]
    }
   ],
   "source": [
    "print(b)"
   ]
  },
  {
   "cell_type": "code",
   "execution_count": 244,
   "id": "e090546c",
   "metadata": {
    "scrolled": true
   },
   "outputs": [
    {
     "data": {
      "text/plain": [
       "200"
      ]
     },
     "execution_count": 244,
     "metadata": {},
     "output_type": "execute_result"
    }
   ],
   "source": [
    "len(b)"
   ]
  },
  {
   "cell_type": "code",
   "execution_count": 245,
   "id": "e3391de2",
   "metadata": {},
   "outputs": [
    {
     "name": "stdout",
     "output_type": "stream",
     "text": [
      "A book object has been deleted\n"
     ]
    }
   ],
   "source": [
    "del b"
   ]
  },
  {
   "cell_type": "code",
   "execution_count": null,
   "id": "c3a7a34e",
   "metadata": {},
   "outputs": [],
   "source": []
  },
  {
   "cell_type": "code",
   "execution_count": null,
   "id": "74f89b70",
   "metadata": {},
   "outputs": [],
   "source": []
  },
  {
   "cell_type": "code",
   "execution_count": null,
   "id": "264bf589",
   "metadata": {},
   "outputs": [],
   "source": []
  },
  {
   "cell_type": "code",
   "execution_count": 1,
   "id": "2deebaaa",
   "metadata": {},
   "outputs": [
    {
     "name": "stdout",
     "output_type": "stream",
     "text": [
      "Requirement already satisfied: requests in /Users/siver.rajab/anaconda3/lib/python3.11/site-packages (2.31.0)\n",
      "Requirement already satisfied: charset-normalizer<4,>=2 in /Users/siver.rajab/anaconda3/lib/python3.11/site-packages (from requests) (2.0.4)\n",
      "Requirement already satisfied: idna<4,>=2.5 in /Users/siver.rajab/anaconda3/lib/python3.11/site-packages (from requests) (3.4)\n",
      "Requirement already satisfied: urllib3<3,>=1.21.1 in /Users/siver.rajab/anaconda3/lib/python3.11/site-packages (from requests) (1.26.16)\n",
      "Requirement already satisfied: certifi>=2017.4.17 in /Users/siver.rajab/anaconda3/lib/python3.11/site-packages (from requests) (2023.7.22)\n",
      "Note: you may need to restart the kernel to use updated packages.\n"
     ]
    }
   ],
   "source": [
    "pip install requests"
   ]
  },
  {
   "cell_type": "code",
   "execution_count": 1,
   "id": "514e0ec7",
   "metadata": {},
   "outputs": [
    {
     "name": "stdout",
     "output_type": "stream",
     "text": [
      "Requirement already satisfied: colorama in /Users/siver.rajab/anaconda3/lib/python3.11/site-packages (0.4.6)\n",
      "Note: you may need to restart the kernel to use updated packages.\n"
     ]
    }
   ],
   "source": [
    "pip install colorama"
   ]
  },
  {
   "cell_type": "code",
   "execution_count": 2,
   "id": "3f33e75f",
   "metadata": {},
   "outputs": [
    {
     "name": "stdout",
     "output_type": "stream",
     "text": [
      "some red text\n"
     ]
    }
   ],
   "source": [
    "from colorama import init\n",
    "\n",
    "init()\n",
    "from colorama import Fore\n",
    "\n",
    "print(Fore.RED + \"some red text\")"
   ]
  },
  {
   "cell_type": "code",
   "execution_count": 3,
   "id": "9b3d5215",
   "metadata": {},
   "outputs": [],
   "source": [
    "from colorama import init"
   ]
  },
  {
   "cell_type": "code",
   "execution_count": 5,
   "id": "c9e80e38",
   "metadata": {},
   "outputs": [],
   "source": [
    "init()"
   ]
  },
  {
   "cell_type": "code",
   "execution_count": 7,
   "id": "fa02e114",
   "metadata": {},
   "outputs": [],
   "source": [
    "from colorama import Fore"
   ]
  },
  {
   "cell_type": "code",
   "execution_count": 8,
   "id": "1de68456",
   "metadata": {},
   "outputs": [
    {
     "name": "stdout",
     "output_type": "stream",
     "text": [
      "Some Red Text\n"
     ]
    }
   ],
   "source": [
    "print(Fore.RED + \"Some Red Text\")"
   ]
  },
  {
   "cell_type": "code",
   "execution_count": 10,
   "id": "6ad88913",
   "metadata": {},
   "outputs": [
    {
     "name": "stdout",
     "output_type": "stream",
     "text": [
      "Requirement already satisfied: colorama in /Users/siver.rajab/anaconda3/lib/python3.11/site-packages (0.4.6)\n",
      "Requirement already satisfied: jupyter in /Users/siver.rajab/anaconda3/lib/python3.11/site-packages (1.0.0)\n",
      "Requirement already satisfied: notebook in /Users/siver.rajab/anaconda3/lib/python3.11/site-packages (from jupyter) (6.5.4)\n",
      "Requirement already satisfied: qtconsole in /Users/siver.rajab/anaconda3/lib/python3.11/site-packages (from jupyter) (5.4.2)\n",
      "Requirement already satisfied: jupyter-console in /Users/siver.rajab/anaconda3/lib/python3.11/site-packages (from jupyter) (6.6.3)\n",
      "Requirement already satisfied: nbconvert in /Users/siver.rajab/anaconda3/lib/python3.11/site-packages (from jupyter) (6.5.4)\n",
      "Requirement already satisfied: ipykernel in /Users/siver.rajab/anaconda3/lib/python3.11/site-packages (from jupyter) (6.19.2)\n",
      "Requirement already satisfied: ipywidgets in /Users/siver.rajab/anaconda3/lib/python3.11/site-packages (from jupyter) (8.0.4)\n",
      "Requirement already satisfied: appnope in /Users/siver.rajab/anaconda3/lib/python3.11/site-packages (from ipykernel->jupyter) (0.1.2)\n",
      "Requirement already satisfied: comm>=0.1.1 in /Users/siver.rajab/anaconda3/lib/python3.11/site-packages (from ipykernel->jupyter) (0.1.2)\n",
      "Requirement already satisfied: debugpy>=1.0 in /Users/siver.rajab/anaconda3/lib/python3.11/site-packages (from ipykernel->jupyter) (1.6.7)\n",
      "Requirement already satisfied: ipython>=7.23.1 in /Users/siver.rajab/anaconda3/lib/python3.11/site-packages (from ipykernel->jupyter) (8.12.0)\n",
      "Requirement already satisfied: jupyter-client>=6.1.12 in /Users/siver.rajab/anaconda3/lib/python3.11/site-packages (from ipykernel->jupyter) (7.4.9)\n",
      "Requirement already satisfied: matplotlib-inline>=0.1 in /Users/siver.rajab/anaconda3/lib/python3.11/site-packages (from ipykernel->jupyter) (0.1.6)\n",
      "Requirement already satisfied: nest-asyncio in /Users/siver.rajab/anaconda3/lib/python3.11/site-packages (from ipykernel->jupyter) (1.5.6)\n",
      "Requirement already satisfied: packaging in /Users/siver.rajab/anaconda3/lib/python3.11/site-packages (from ipykernel->jupyter) (23.0)\n",
      "Requirement already satisfied: psutil in /Users/siver.rajab/anaconda3/lib/python3.11/site-packages (from ipykernel->jupyter) (5.9.0)\n",
      "Requirement already satisfied: pyzmq>=17 in /Users/siver.rajab/anaconda3/lib/python3.11/site-packages (from ipykernel->jupyter) (23.2.0)\n",
      "Requirement already satisfied: tornado>=6.1 in /Users/siver.rajab/anaconda3/lib/python3.11/site-packages (from ipykernel->jupyter) (6.3.2)\n",
      "Requirement already satisfied: traitlets>=5.4.0 in /Users/siver.rajab/anaconda3/lib/python3.11/site-packages (from ipykernel->jupyter) (5.7.1)\n",
      "Requirement already satisfied: widgetsnbextension~=4.0 in /Users/siver.rajab/anaconda3/lib/python3.11/site-packages (from ipywidgets->jupyter) (4.0.5)\n",
      "Requirement already satisfied: jupyterlab-widgets~=3.0 in /Users/siver.rajab/anaconda3/lib/python3.11/site-packages (from ipywidgets->jupyter) (3.0.5)\n",
      "Requirement already satisfied: jupyter-core!=5.0.*,>=4.12 in /Users/siver.rajab/anaconda3/lib/python3.11/site-packages (from jupyter-console->jupyter) (5.3.0)\n",
      "Requirement already satisfied: prompt-toolkit>=3.0.30 in /Users/siver.rajab/anaconda3/lib/python3.11/site-packages (from jupyter-console->jupyter) (3.0.36)\n",
      "Requirement already satisfied: pygments in /Users/siver.rajab/anaconda3/lib/python3.11/site-packages (from jupyter-console->jupyter) (2.15.1)\n",
      "Requirement already satisfied: lxml in /Users/siver.rajab/anaconda3/lib/python3.11/site-packages (from nbconvert->jupyter) (4.9.2)\n",
      "Requirement already satisfied: beautifulsoup4 in /Users/siver.rajab/anaconda3/lib/python3.11/site-packages (from nbconvert->jupyter) (4.12.2)\n",
      "Requirement already satisfied: bleach in /Users/siver.rajab/anaconda3/lib/python3.11/site-packages (from nbconvert->jupyter) (4.1.0)\n",
      "Requirement already satisfied: defusedxml in /Users/siver.rajab/anaconda3/lib/python3.11/site-packages (from nbconvert->jupyter) (0.7.1)\n",
      "Requirement already satisfied: entrypoints>=0.2.2 in /Users/siver.rajab/anaconda3/lib/python3.11/site-packages (from nbconvert->jupyter) (0.4)\n",
      "Requirement already satisfied: jinja2>=3.0 in /Users/siver.rajab/anaconda3/lib/python3.11/site-packages (from nbconvert->jupyter) (3.1.2)\n",
      "Requirement already satisfied: jupyterlab-pygments in /Users/siver.rajab/anaconda3/lib/python3.11/site-packages (from nbconvert->jupyter) (0.1.2)\n",
      "Requirement already satisfied: MarkupSafe>=2.0 in /Users/siver.rajab/anaconda3/lib/python3.11/site-packages (from nbconvert->jupyter) (2.1.1)\n",
      "Requirement already satisfied: mistune<2,>=0.8.1 in /Users/siver.rajab/anaconda3/lib/python3.11/site-packages (from nbconvert->jupyter) (0.8.4)\n",
      "Requirement already satisfied: nbclient>=0.5.0 in /Users/siver.rajab/anaconda3/lib/python3.11/site-packages (from nbconvert->jupyter) (0.5.13)\n",
      "Requirement already satisfied: nbformat>=5.1 in /Users/siver.rajab/anaconda3/lib/python3.11/site-packages (from nbconvert->jupyter) (5.7.0)\n",
      "Requirement already satisfied: pandocfilters>=1.4.1 in /Users/siver.rajab/anaconda3/lib/python3.11/site-packages (from nbconvert->jupyter) (1.5.0)\n",
      "Requirement already satisfied: tinycss2 in /Users/siver.rajab/anaconda3/lib/python3.11/site-packages (from nbconvert->jupyter) (1.2.1)\n",
      "Requirement already satisfied: argon2-cffi in /Users/siver.rajab/anaconda3/lib/python3.11/site-packages (from notebook->jupyter) (21.3.0)\n",
      "Requirement already satisfied: ipython-genutils in /Users/siver.rajab/anaconda3/lib/python3.11/site-packages (from notebook->jupyter) (0.2.0)\n",
      "Requirement already satisfied: Send2Trash>=1.8.0 in /Users/siver.rajab/anaconda3/lib/python3.11/site-packages (from notebook->jupyter) (1.8.0)\n",
      "Requirement already satisfied: terminado>=0.8.3 in /Users/siver.rajab/anaconda3/lib/python3.11/site-packages (from notebook->jupyter) (0.17.1)\n",
      "Requirement already satisfied: prometheus-client in /Users/siver.rajab/anaconda3/lib/python3.11/site-packages (from notebook->jupyter) (0.14.1)\n",
      "Requirement already satisfied: nbclassic>=0.4.7 in /Users/siver.rajab/anaconda3/lib/python3.11/site-packages (from notebook->jupyter) (0.5.5)\n",
      "Requirement already satisfied: qtpy>=2.0.1 in /Users/siver.rajab/anaconda3/lib/python3.11/site-packages (from qtconsole->jupyter) (2.2.0)\n",
      "Requirement already satisfied: backcall in /Users/siver.rajab/anaconda3/lib/python3.11/site-packages (from ipython>=7.23.1->ipykernel->jupyter) (0.2.0)\n",
      "Requirement already satisfied: decorator in /Users/siver.rajab/anaconda3/lib/python3.11/site-packages (from ipython>=7.23.1->ipykernel->jupyter) (5.1.1)\n",
      "Requirement already satisfied: jedi>=0.16 in /Users/siver.rajab/anaconda3/lib/python3.11/site-packages (from ipython>=7.23.1->ipykernel->jupyter) (0.18.1)\n",
      "Requirement already satisfied: pickleshare in /Users/siver.rajab/anaconda3/lib/python3.11/site-packages (from ipython>=7.23.1->ipykernel->jupyter) (0.7.5)\n",
      "Requirement already satisfied: stack-data in /Users/siver.rajab/anaconda3/lib/python3.11/site-packages (from ipython>=7.23.1->ipykernel->jupyter) (0.2.0)\n",
      "Requirement already satisfied: pexpect>4.3 in /Users/siver.rajab/anaconda3/lib/python3.11/site-packages (from ipython>=7.23.1->ipykernel->jupyter) (4.8.0)\n",
      "Requirement already satisfied: python-dateutil>=2.8.2 in /Users/siver.rajab/anaconda3/lib/python3.11/site-packages (from jupyter-client>=6.1.12->ipykernel->jupyter) (2.8.2)\n",
      "Requirement already satisfied: platformdirs>=2.5 in /Users/siver.rajab/anaconda3/lib/python3.11/site-packages (from jupyter-core!=5.0.*,>=4.12->jupyter-console->jupyter) (2.5.2)\n",
      "Requirement already satisfied: jupyter-server>=1.8 in /Users/siver.rajab/anaconda3/lib/python3.11/site-packages (from nbclassic>=0.4.7->notebook->jupyter) (1.23.4)\n",
      "Requirement already satisfied: notebook-shim>=0.1.0 in /Users/siver.rajab/anaconda3/lib/python3.11/site-packages (from nbclassic>=0.4.7->notebook->jupyter) (0.2.2)\n",
      "Requirement already satisfied: fastjsonschema in /Users/siver.rajab/anaconda3/lib/python3.11/site-packages (from nbformat>=5.1->nbconvert->jupyter) (2.16.2)\n",
      "Requirement already satisfied: jsonschema>=2.6 in /Users/siver.rajab/anaconda3/lib/python3.11/site-packages (from nbformat>=5.1->nbconvert->jupyter) (4.17.3)\n",
      "Requirement already satisfied: wcwidth in /Users/siver.rajab/anaconda3/lib/python3.11/site-packages (from prompt-toolkit>=3.0.30->jupyter-console->jupyter) (0.2.5)\n",
      "Requirement already satisfied: ptyprocess in /Users/siver.rajab/anaconda3/lib/python3.11/site-packages (from terminado>=0.8.3->notebook->jupyter) (0.7.0)\n"
     ]
    },
    {
     "name": "stdout",
     "output_type": "stream",
     "text": [
      "Requirement already satisfied: argon2-cffi-bindings in /Users/siver.rajab/anaconda3/lib/python3.11/site-packages (from argon2-cffi->notebook->jupyter) (21.2.0)\n",
      "Requirement already satisfied: soupsieve>1.2 in /Users/siver.rajab/anaconda3/lib/python3.11/site-packages (from beautifulsoup4->nbconvert->jupyter) (2.4)\n",
      "Requirement already satisfied: six>=1.9.0 in /Users/siver.rajab/anaconda3/lib/python3.11/site-packages (from bleach->nbconvert->jupyter) (1.16.0)\n",
      "Requirement already satisfied: webencodings in /Users/siver.rajab/anaconda3/lib/python3.11/site-packages (from bleach->nbconvert->jupyter) (0.5.1)\n",
      "Requirement already satisfied: parso<0.9.0,>=0.8.0 in /Users/siver.rajab/anaconda3/lib/python3.11/site-packages (from jedi>=0.16->ipython>=7.23.1->ipykernel->jupyter) (0.8.3)\n",
      "Requirement already satisfied: attrs>=17.4.0 in /Users/siver.rajab/anaconda3/lib/python3.11/site-packages (from jsonschema>=2.6->nbformat>=5.1->nbconvert->jupyter) (22.1.0)\n",
      "Requirement already satisfied: pyrsistent!=0.17.0,!=0.17.1,!=0.17.2,>=0.14.0 in /Users/siver.rajab/anaconda3/lib/python3.11/site-packages (from jsonschema>=2.6->nbformat>=5.1->nbconvert->jupyter) (0.18.0)\n",
      "Requirement already satisfied: anyio<4,>=3.1.0 in /Users/siver.rajab/anaconda3/lib/python3.11/site-packages (from jupyter-server>=1.8->nbclassic>=0.4.7->notebook->jupyter) (3.5.0)\n",
      "Requirement already satisfied: websocket-client in /Users/siver.rajab/anaconda3/lib/python3.11/site-packages (from jupyter-server>=1.8->nbclassic>=0.4.7->notebook->jupyter) (0.58.0)\n",
      "Requirement already satisfied: cffi>=1.0.1 in /Users/siver.rajab/anaconda3/lib/python3.11/site-packages (from argon2-cffi-bindings->argon2-cffi->notebook->jupyter) (1.15.1)\n",
      "Requirement already satisfied: executing in /Users/siver.rajab/anaconda3/lib/python3.11/site-packages (from stack-data->ipython>=7.23.1->ipykernel->jupyter) (0.8.3)\n",
      "Requirement already satisfied: asttokens in /Users/siver.rajab/anaconda3/lib/python3.11/site-packages (from stack-data->ipython>=7.23.1->ipykernel->jupyter) (2.0.5)\n",
      "Requirement already satisfied: pure-eval in /Users/siver.rajab/anaconda3/lib/python3.11/site-packages (from stack-data->ipython>=7.23.1->ipykernel->jupyter) (0.2.2)\n",
      "Requirement already satisfied: idna>=2.8 in /Users/siver.rajab/anaconda3/lib/python3.11/site-packages (from anyio<4,>=3.1.0->jupyter-server>=1.8->nbclassic>=0.4.7->notebook->jupyter) (3.4)\n",
      "Requirement already satisfied: sniffio>=1.1 in /Users/siver.rajab/anaconda3/lib/python3.11/site-packages (from anyio<4,>=3.1.0->jupyter-server>=1.8->nbclassic>=0.4.7->notebook->jupyter) (1.2.0)\n",
      "Requirement already satisfied: pycparser in /Users/siver.rajab/anaconda3/lib/python3.11/site-packages (from cffi>=1.0.1->argon2-cffi-bindings->argon2-cffi->notebook->jupyter) (2.21)\n"
     ]
    }
   ],
   "source": [
    "!pip install --upgrade colorama jupyter"
   ]
  },
  {
   "cell_type": "code",
   "execution_count": 11,
   "id": "086137cc",
   "metadata": {
    "scrolled": true
   },
   "outputs": [
    {
     "name": "stdout",
     "output_type": "stream",
     "text": [
      "Some Red Text\n"
     ]
    }
   ],
   "source": [
    "print(Fore.RED + \"Some Red Text\")"
   ]
  },
  {
   "cell_type": "code",
   "execution_count": null,
   "id": "05eeed26",
   "metadata": {},
   "outputs": [],
   "source": []
  },
  {
   "cell_type": "code",
   "execution_count": null,
   "id": "803b4ef7",
   "metadata": {},
   "outputs": [],
   "source": []
  },
  {
   "cell_type": "code",
   "execution_count": null,
   "id": "0dc82b31",
   "metadata": {},
   "outputs": [],
   "source": []
  },
  {
   "cell_type": "code",
   "execution_count": null,
   "id": "a5851d12",
   "metadata": {},
   "outputs": [],
   "source": []
  },
  {
   "cell_type": "code",
   "execution_count": null,
   "id": "6d3424d8",
   "metadata": {},
   "outputs": [],
   "source": []
  },
  {
   "cell_type": "code",
   "execution_count": null,
   "id": "9541acda",
   "metadata": {},
   "outputs": [],
   "source": []
  },
  {
   "cell_type": "code",
   "execution_count": null,
   "id": "c5c1e5ae",
   "metadata": {},
   "outputs": [],
   "source": []
  },
  {
   "cell_type": "code",
   "execution_count": null,
   "id": "1f4b9b11",
   "metadata": {},
   "outputs": [],
   "source": []
  },
  {
   "cell_type": "code",
   "execution_count": null,
   "id": "4158c445",
   "metadata": {},
   "outputs": [],
   "source": []
  },
  {
   "cell_type": "code",
   "execution_count": 2,
   "id": "79b71865",
   "metadata": {},
   "outputs": [],
   "source": [
    "def add(n1,n2):\n",
    "    print(n1+n2)"
   ]
  },
  {
   "cell_type": "code",
   "execution_count": 3,
   "id": "55e2c5f2",
   "metadata": {},
   "outputs": [
    {
     "name": "stdout",
     "output_type": "stream",
     "text": [
      "30\n"
     ]
    }
   ],
   "source": [
    "add(10,20)"
   ]
  },
  {
   "cell_type": "code",
   "execution_count": 4,
   "id": "92151ade",
   "metadata": {},
   "outputs": [],
   "source": [
    "number1 = 10"
   ]
  },
  {
   "cell_type": "code",
   "execution_count": 8,
   "id": "667cd5dc",
   "metadata": {},
   "outputs": [
    {
     "name": "stdout",
     "output_type": "stream",
     "text": [
      "Please provide a number: 20\n"
     ]
    }
   ],
   "source": [
    "number2 = input(\"Please provide a number: \")"
   ]
  },
  {
   "cell_type": "code",
   "execution_count": 13,
   "id": "2a50b8b5",
   "metadata": {},
   "outputs": [
    {
     "ename": "IndentationError",
     "evalue": "unexpected indent (3985325279.py, line 3)",
     "output_type": "error",
     "traceback": [
      "\u001b[0;36m  Cell \u001b[0;32mIn[13], line 3\u001b[0;36m\u001b[0m\n\u001b[0;31m    print(\"Something happend!\")\u001b[0m\n\u001b[0m    ^\u001b[0m\n\u001b[0;31mIndentationError\u001b[0m\u001b[0;31m:\u001b[0m unexpected indent\n"
     ]
    }
   ],
   "source": [
    "add(number1, number2)\n",
    "\n",
    "    print(\"Something happend!\")"
   ]
  },
  {
   "cell_type": "code",
   "execution_count": 25,
   "id": "43b15d47",
   "metadata": {},
   "outputs": [
    {
     "name": "stdout",
     "output_type": "stream",
     "text": [
      "Hey it looks like you are aren't adding correctly\n"
     ]
    }
   ],
   "source": [
    "try:\n",
    "    #WANT TO ATTEMPT THIS CODE\n",
    "    #MAY HAVE AN ERROR\n",
    "    result = 10 + \"10\"\n",
    "except:  \n",
    "    print(\"Hey it looks like you are aren't adding correctly\")\n",
    "else:\n",
    "    print(\"Add went well!\")\n",
    "    print(result)"
   ]
  },
  {
   "cell_type": "code",
   "execution_count": 26,
   "id": "1b474290",
   "metadata": {},
   "outputs": [
    {
     "data": {
      "text/plain": [
       "20"
      ]
     },
     "execution_count": 26,
     "metadata": {},
     "output_type": "execute_result"
    }
   ],
   "source": [
    "result"
   ]
  },
  {
   "cell_type": "code",
   "execution_count": null,
   "id": "f3967312",
   "metadata": {},
   "outputs": [],
   "source": []
  },
  {
   "cell_type": "code",
   "execution_count": null,
   "id": "68364efc",
   "metadata": {},
   "outputs": [],
   "source": []
  },
  {
   "cell_type": "code",
   "execution_count": null,
   "id": "0662c2a9",
   "metadata": {},
   "outputs": [],
   "source": []
  },
  {
   "cell_type": "code",
   "execution_count": 30,
   "id": "136b8a1f",
   "metadata": {},
   "outputs": [
    {
     "name": "stdout",
     "output_type": "stream",
     "text": [
      "All other exceptions!\n",
      "I always run\n"
     ]
    }
   ],
   "source": [
    "try:\n",
    "    f = open(\"testfile\",\"r\")\n",
    "    f.write(\"Write a test line\")\n",
    "except TypeError:\n",
    "    print(\"There was a type error!\")\n",
    "except:\n",
    "    print(\"All other exceptions!\")\n",
    "finally:\n",
    "    print(\"I always run\")"
   ]
  },
  {
   "cell_type": "code",
   "execution_count": 4,
   "id": "22fffacf",
   "metadata": {},
   "outputs": [],
   "source": [
    "def ask_for_int():\n",
    "    \n",
    "    while True:\n",
    "        try:\n",
    "            restult = int(input(\"Please provide number: \"))\n",
    "        except:\n",
    "            print(\"Whoops! thats not a number\")\n",
    "            continue\n",
    "        else:\n",
    "            print(\"Yes thank you\")\n",
    "            break\n",
    "        finally:\n",
    "            print(\"End of try/except/finally\")\n",
    "            print(\"I will always run at the end!\")"
   ]
  },
  {
   "cell_type": "code",
   "execution_count": null,
   "id": "36c2f2c0",
   "metadata": {
    "scrolled": true
   },
   "outputs": [
    {
     "name": "stdout",
     "output_type": "stream",
     "text": [
      "Please provide number: ss\n",
      "Whoops! thats not a number\n",
      "End of try/except/finally\n",
      "I will always run at the end!\n",
      "Please provide number: ss\n",
      "Whoops! thats not a number\n",
      "End of try/except/finally\n",
      "I will always run at the end!\n",
      "Please provide number: xx\n",
      "Whoops! thats not a number\n",
      "End of try/except/finally\n",
      "I will always run at the end!\n"
     ]
    }
   ],
   "source": [
    "ask_for_int()"
   ]
  },
  {
   "cell_type": "code",
   "execution_count": null,
   "id": "a862243f",
   "metadata": {},
   "outputs": [],
   "source": []
  },
  {
   "cell_type": "code",
   "execution_count": null,
   "id": "a1aafb78",
   "metadata": {},
   "outputs": [],
   "source": []
  },
  {
   "cell_type": "code",
   "execution_count": null,
   "id": "06602bb2",
   "metadata": {},
   "outputs": [],
   "source": []
  },
  {
   "cell_type": "code",
   "execution_count": null,
   "id": "891f6bca",
   "metadata": {},
   "outputs": [],
   "source": []
  },
  {
   "cell_type": "code",
   "execution_count": null,
   "id": "8e1480fb",
   "metadata": {},
   "outputs": [],
   "source": []
  },
  {
   "cell_type": "code",
   "execution_count": null,
   "id": "adba3896",
   "metadata": {},
   "outputs": [],
   "source": []
  },
  {
   "cell_type": "code",
   "execution_count": null,
   "id": "baba7e19",
   "metadata": {},
   "outputs": [],
   "source": []
  },
  {
   "cell_type": "code",
   "execution_count": 7,
   "id": "0f0fe26a",
   "metadata": {},
   "outputs": [],
   "source": [
    "import random \n",
    "\n",
    "\n",
    "class Wuerfel():\n",
    "    \n",
    "    def __init__(self):\n",
    "        self.zahlen = [1,2,3,4,5,6]\n",
    "    \n",
    "    \n",
    "    def werfen(self):\n",
    "        random.shuffle(self.zahlen)\n",
    "        self.ausgabe = self.zahlen[0]\n",
    "        return self.ausgabe\n",
    "    \n",
    "    def spielen(self): \n",
    "    \n",
    "        p1 = input(\"Wie heißt du: \")\n",
    "        Spielstand = 0\n",
    "        while Spielstand <21:\n",
    "            zahl = self.werfen()\n",
    "\n",
    "            if Spielstand + zahl <= 21:\n",
    "                Spielstand += zahl\n",
    "                print(f\"{p1}, dein Spielstand beträgt {Spielstand}\")\n",
    "                b = input(f\"Möchtest du weiterspielen, {p1}? (Y/N)\").upper()\n",
    "                if b in [\"Y\",\"N\"]:\n",
    "                    if b == \"Y\":\n",
    "                        continue\n",
    "                    else:\n",
    "                        return Spielstand\n",
    "                        break \n",
    "            elif Spielstand + zahl > 21:\n",
    "                Spielstand += zahl\n",
    "                print(f\"{p1}, leider überschreitest du 10 mit deinem Spielstand {Spielstand} und verlierst damit!\")\n",
    "                return Spielstand\n",
    "                break\n",
    "\n",
    "        \n",
    "    def __str__(self):\n",
    "        print(f\"{self.ausgabe}\")\n",
    "        \n",
    "        \n",
    "    def __len__(self):\n",
    "        print(self.ausgabe)\n",
    "    "
   ]
  },
  {
   "cell_type": "code",
   "execution_count": 13,
   "id": "d0bffd12",
   "metadata": {},
   "outputs": [],
   "source": [
    "def duell():\n",
    "    \n",
    "    while True:\n",
    "        \n",
    "        teilnehmer = input(\"Möchtest du A oder B sein? (A/B)\").upper()\n",
    "        if teilnehmer not in [\"A\", \"B\"]:\n",
    "            continue\n",
    "        else:\n",
    "            if teilnehmer == \"A\":\n",
    "                print(\"Super! dann leg mal los, lieber A! :)\")\n",
    "                new_duell = Wuerfel()\n",
    "                ergebnis_1 = new_duell.spielen()\n",
    "                if ergebnis_1 > 21:\n",
    "                    break\n",
    "                else:\n",
    "                    ergebnis_2 = new_duell.spielen()\n",
    "            elif teilnehmer == \"B\":\n",
    "                print(\"Super! dann leg mal los, lieber B! :)\")\n",
    "                new_duell = Wuerfel()\n",
    "                ergebnis_1 = new_duell.spielen()\n",
    "                if ergebnis_1 > 21:\n",
    "                    break\n",
    "                else:\n",
    "                    ergebnis_2 = new_duell.spielen()\n",
    "            \n",
    "            \n",
    "                    \n",
    "        if ergebnis_1 < ergebnis_2:\n",
    "            print(\"Sehr gut, B! Du hast gewonnen!\")\n",
    "        elif ergebnis_1 > ergebnis_2:\n",
    "            print(\"verdienter Sieg, A! :)\")\n",
    "        elif ergebnis_1 == ergebnis_2:\n",
    "            print(\"Unentschieden!\")\n",
    "                \n",
    "        break        \n",
    "        \n",
    "        "
   ]
  },
  {
   "cell_type": "code",
   "execution_count": 14,
   "id": "997ca77a",
   "metadata": {},
   "outputs": [
    {
     "name": "stdout",
     "output_type": "stream",
     "text": [
      "Möchtest du A oder B sein? (A/B)k\n",
      "Möchtest du A oder B sein? (A/B)b\n",
      "Super! dann leg mal los, lieber B! :)\n",
      "Wie heißt du: k\n",
      "k, dein Spielstand beträgt 5\n",
      "Möchtest du weiterspielen, k? (Y/N)n\n",
      "Wie heißt du: i\n",
      "i, dein Spielstand beträgt 5\n",
      "Möchtest du weiterspielen, i? (Y/N)n\n",
      "Unentschieden!\n"
     ]
    }
   ],
   "source": [
    "duell()"
   ]
  },
  {
   "cell_type": "code",
   "execution_count": null,
   "id": "6cb4cc6f",
   "metadata": {},
   "outputs": [],
   "source": []
  }
 ],
 "metadata": {
  "kernelspec": {
   "display_name": "Python 3 (ipykernel)",
   "language": "python",
   "name": "python3"
  },
  "language_info": {
   "codemirror_mode": {
    "name": "ipython",
    "version": 3
   },
   "file_extension": ".py",
   "mimetype": "text/x-python",
   "name": "python",
   "nbconvert_exporter": "python",
   "pygments_lexer": "ipython3",
   "version": "3.11.4"
  }
 },
 "nbformat": 4,
 "nbformat_minor": 5
}
