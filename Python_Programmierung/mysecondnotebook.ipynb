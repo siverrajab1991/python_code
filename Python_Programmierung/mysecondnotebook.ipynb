{
 "cells": [
  {
   "cell_type": "code",
   "execution_count": null,
   "id": "69290b1c",
   "metadata": {},
   "outputs": [],
   "source": [
    "x = 0\n",
    "print(x)"
   ]
  },
  {
   "cell_type": "code",
   "execution_count": null,
   "id": "3cc63dd2",
   "metadata": {},
   "outputs": [],
   "source": []
  },
  {
   "cell_type": "code",
   "execution_count": null,
   "id": "0afa0717",
   "metadata": {},
   "outputs": [],
   "source": []
  },
  {
   "cell_type": "code",
   "execution_count": null,
   "id": "2eadc6ce",
   "metadata": {},
   "outputs": [],
   "source": [
    "while x < 5:\n",
    "    print(f\"The value of x is {x}\")\n",
    "    #x = x + 1\n",
    "    x += 1\n",
    "else:\n",
    "    print(\"X IS NOT LESS THAN 5\")"
   ]
  },
  {
   "cell_type": "code",
   "execution_count": null,
   "id": "e66063d6",
   "metadata": {},
   "outputs": [],
   "source": [
    "x = [1,2,3]\n",
    "\n",
    "for item in x:\n",
    "    # comment\n",
    "    pass\n",
    "\n",
    "print(\"End of my script\")"
   ]
  },
  {
   "cell_type": "code",
   "execution_count": null,
   "id": "48395b2d",
   "metadata": {},
   "outputs": [],
   "source": [
    "mystring = \"Sammy\""
   ]
  },
  {
   "cell_type": "code",
   "execution_count": null,
   "id": "f11d3945",
   "metadata": {},
   "outputs": [],
   "source": [
    "for letter in mystring: \n",
    "    if letter == \"m\":\n",
    "            break\n",
    "    print(letter)"
   ]
  },
  {
   "cell_type": "code",
   "execution_count": null,
   "id": "3ea12556",
   "metadata": {
    "scrolled": true
   },
   "outputs": [],
   "source": [
    "x = 0\n",
    "while x < 5:\n",
    "    print(x)\n",
    "    x += 1"
   ]
  },
  {
   "cell_type": "code",
   "execution_count": null,
   "id": "d98c6247",
   "metadata": {},
   "outputs": [],
   "source": [
    "a = [1,2,3,4,5,6]\n",
    "b = \"Hello\"\n",
    "\n",
    "for number in a:\n",
    "    print(f\"Es scheint sich um die Zahl {number} zu handeln\")\n",
    "    "
   ]
  },
  {
   "cell_type": "code",
   "execution_count": null,
   "id": "3aabd172",
   "metadata": {},
   "outputs": [],
   "source": [
    "mylist = [1,2,3]"
   ]
  },
  {
   "cell_type": "code",
   "execution_count": null,
   "id": "4b390dbe",
   "metadata": {},
   "outputs": [],
   "source": [
    "for num in range(0,13,4):\n",
    "    print(num)"
   ]
  },
  {
   "cell_type": "code",
   "execution_count": null,
   "id": "c11abd7a",
   "metadata": {
    "scrolled": true
   },
   "outputs": [],
   "source": [
    "list(range(0,11,2))"
   ]
  },
  {
   "cell_type": "code",
   "execution_count": null,
   "id": "2438c1c5",
   "metadata": {},
   "outputs": [],
   "source": [
    "index_count = 0\n",
    "\n",
    "for letter in \"abcde\":\n",
    "    print(f\"At index {index_count} the letter is {letter}\")\n",
    "    index_count += 1"
   ]
  },
  {
   "cell_type": "code",
   "execution_count": null,
   "id": "fe9d54ae",
   "metadata": {},
   "outputs": [],
   "source": [
    "word = \"abcde\"\n",
    "\n",
    "for index,letter in enumerate(word):\n",
    "    print(index)\n",
    "    print(letter)\n",
    "    print(\"\\n\")"
   ]
  },
  {
   "cell_type": "code",
   "execution_count": null,
   "id": "ce4fdf67",
   "metadata": {},
   "outputs": [],
   "source": [
    "mylist1 = [1,2,3,4,5]\n",
    "mylist2 = [\"a\", \"b\", \"c\",\"d\"]\n",
    "mylist3 = [100,200,300]\n",
    "\n",
    "for item in zip(mylist1, mylist2, mylist3):\n",
    "    print(item)"
   ]
  },
  {
   "cell_type": "code",
   "execution_count": null,
   "id": "e6c978f0",
   "metadata": {},
   "outputs": [],
   "source": [
    "list(zip(mylist1,mylist2,mylist3))"
   ]
  },
  {
   "cell_type": "code",
   "execution_count": null,
   "id": "26ef6b46",
   "metadata": {},
   "outputs": [],
   "source": [
    "2 in [1,2,3]"
   ]
  },
  {
   "cell_type": "code",
   "execution_count": null,
   "id": "0aea4119",
   "metadata": {},
   "outputs": [],
   "source": [
    "\"a\" in \"a World\""
   ]
  },
  {
   "cell_type": "code",
   "execution_count": null,
   "id": "70c651e7",
   "metadata": {},
   "outputs": [],
   "source": [
    "\"mykey\" in {\"mykey\": 345}"
   ]
  },
  {
   "cell_type": "code",
   "execution_count": null,
   "id": "16112ec0",
   "metadata": {},
   "outputs": [],
   "source": [
    "d = {\"mykey\": 345}\n",
    "\n",
    "345 in d.keys()"
   ]
  },
  {
   "cell_type": "code",
   "execution_count": null,
   "id": "7422aa2c",
   "metadata": {},
   "outputs": [],
   "source": [
    "mylist = [10,20,30,40,50,100]"
   ]
  },
  {
   "cell_type": "code",
   "execution_count": null,
   "id": "99631def",
   "metadata": {},
   "outputs": [],
   "source": [
    "min(mylist)"
   ]
  },
  {
   "cell_type": "code",
   "execution_count": null,
   "id": "76c9c334",
   "metadata": {},
   "outputs": [],
   "source": [
    "max(mylist)"
   ]
  },
  {
   "cell_type": "code",
   "execution_count": null,
   "id": "352f0ade",
   "metadata": {},
   "outputs": [],
   "source": [
    "from random import shuffle"
   ]
  },
  {
   "cell_type": "code",
   "execution_count": null,
   "id": "5cd082e3",
   "metadata": {},
   "outputs": [],
   "source": [
    "mylist = [1,2,3,4,5,6,7,8,9,10]"
   ]
  },
  {
   "cell_type": "code",
   "execution_count": null,
   "id": "1f731efd",
   "metadata": {},
   "outputs": [],
   "source": [
    "shuffle(mylist)"
   ]
  },
  {
   "cell_type": "code",
   "execution_count": null,
   "id": "fdff6279",
   "metadata": {},
   "outputs": [],
   "source": [
    "mylist"
   ]
  },
  {
   "cell_type": "code",
   "execution_count": null,
   "id": "8aaef765",
   "metadata": {},
   "outputs": [],
   "source": [
    "from random import randint"
   ]
  },
  {
   "cell_type": "code",
   "execution_count": null,
   "id": "86301c16",
   "metadata": {},
   "outputs": [],
   "source": [
    "randint(0,100)"
   ]
  },
  {
   "cell_type": "code",
   "execution_count": null,
   "id": "ef203ffb",
   "metadata": {},
   "outputs": [],
   "source": [
    "randint(0,100)"
   ]
  },
  {
   "cell_type": "code",
   "execution_count": null,
   "id": "fe59e51f",
   "metadata": {},
   "outputs": [],
   "source": [
    "mynum = randint(0,100)"
   ]
  },
  {
   "cell_type": "code",
   "execution_count": null,
   "id": "8393cf25",
   "metadata": {},
   "outputs": [],
   "source": [
    "mynum"
   ]
  },
  {
   "cell_type": "code",
   "execution_count": null,
   "id": "a88a3647",
   "metadata": {},
   "outputs": [],
   "source": [
    "result = int(input(\"Enter a number here: \"))"
   ]
  },
  {
   "cell_type": "code",
   "execution_count": null,
   "id": "eb4f9eee",
   "metadata": {},
   "outputs": [],
   "source": [
    "type(result)"
   ]
  },
  {
   "cell_type": "code",
   "execution_count": null,
   "id": "ae5d3a0a",
   "metadata": {},
   "outputs": [],
   "source": [
    "result"
   ]
  },
  {
   "cell_type": "code",
   "execution_count": null,
   "id": "b46cf7f1",
   "metadata": {},
   "outputs": [],
   "source": [
    "int(result)"
   ]
  },
  {
   "cell_type": "code",
   "execution_count": null,
   "id": "8429cff2",
   "metadata": {},
   "outputs": [],
   "source": [
    "mystring = \"Hello\""
   ]
  },
  {
   "cell_type": "code",
   "execution_count": null,
   "id": "8ee873f5",
   "metadata": {},
   "outputs": [],
   "source": [
    "mylist = []\n",
    "\n",
    "for letter in mystring:\n",
    "    mylist.append(letter)"
   ]
  },
  {
   "cell_type": "code",
   "execution_count": null,
   "id": "5a80ddfd",
   "metadata": {},
   "outputs": [],
   "source": [
    "mylist"
   ]
  },
  {
   "cell_type": "code",
   "execution_count": null,
   "id": "c3dae36c",
   "metadata": {},
   "outputs": [],
   "source": [
    "mylist = [x for x in \"word\"]"
   ]
  },
  {
   "cell_type": "code",
   "execution_count": null,
   "id": "cebb33fb",
   "metadata": {
    "scrolled": true
   },
   "outputs": [],
   "source": [
    "mylist"
   ]
  },
  {
   "cell_type": "code",
   "execution_count": null,
   "id": "305a5aa1",
   "metadata": {},
   "outputs": [],
   "source": [
    "mylist = [num**2 for num in range(0,11)]"
   ]
  },
  {
   "cell_type": "code",
   "execution_count": null,
   "id": "3687efe5",
   "metadata": {},
   "outputs": [],
   "source": [
    "mylist"
   ]
  },
  {
   "cell_type": "code",
   "execution_count": null,
   "id": "c32143bc",
   "metadata": {},
   "outputs": [],
   "source": [
    "mylist = [x for x in range(0,11) if x%2==0]"
   ]
  },
  {
   "cell_type": "code",
   "execution_count": null,
   "id": "337615fc",
   "metadata": {
    "scrolled": true
   },
   "outputs": [],
   "source": [
    "mylist"
   ]
  },
  {
   "cell_type": "code",
   "execution_count": null,
   "id": "3c0276c5",
   "metadata": {},
   "outputs": [],
   "source": [
    "celcius = [0,10,20,34.5]\n",
    "\n",
    "fahrenheit = [((9/5)*temp + 32) for temp in celcius]"
   ]
  },
  {
   "cell_type": "code",
   "execution_count": null,
   "id": "5bb79731",
   "metadata": {},
   "outputs": [],
   "source": [
    "fahrenheit"
   ]
  },
  {
   "cell_type": "code",
   "execution_count": null,
   "id": "a866133c",
   "metadata": {},
   "outputs": [],
   "source": [
    "fahrenheit = []\n",
    "\n",
    "for temp in celcius: \n",
    "    fahrenheit.append(((9/5)*temp + 32) )"
   ]
  },
  {
   "cell_type": "code",
   "execution_count": null,
   "id": "82c0f4bf",
   "metadata": {},
   "outputs": [],
   "source": [
    "fahrenheit"
   ]
  },
  {
   "cell_type": "code",
   "execution_count": null,
   "id": "64fd71ea",
   "metadata": {},
   "outputs": [],
   "source": [
    "fahrenheit = []\n",
    "\n",
    "for temp in celcius:\n",
    "    fahrenheit.append(temp)"
   ]
  },
  {
   "cell_type": "code",
   "execution_count": null,
   "id": "95a2ca26",
   "metadata": {},
   "outputs": [],
   "source": [
    "fahrenheit"
   ]
  },
  {
   "cell_type": "code",
   "execution_count": null,
   "id": "42ed5e4a",
   "metadata": {},
   "outputs": [],
   "source": [
    "mylist = []\n",
    "\n",
    "for x in [2,4,6]:\n",
    "    for y in [100,200,300]:\n",
    "        mylist.append(x*y)"
   ]
  },
  {
   "cell_type": "code",
   "execution_count": null,
   "id": "4e28643d",
   "metadata": {},
   "outputs": [],
   "source": [
    "mylist"
   ]
  },
  {
   "cell_type": "code",
   "execution_count": null,
   "id": "07906c31",
   "metadata": {},
   "outputs": [],
   "source": [
    "mylist = [x*y for x in [2,4,6] for y in [1,10,1000]]"
   ]
  },
  {
   "cell_type": "code",
   "execution_count": null,
   "id": "28899aaa",
   "metadata": {},
   "outputs": [],
   "source": [
    "for numbers in range(0,10):\n",
    "    if numbers%2 == 0:\n",
    "print(range())"
   ]
  },
  {
   "cell_type": "code",
   "execution_count": null,
   "id": "e8694ffa",
   "metadata": {},
   "outputs": [],
   "source": [
    "list1 = [number for number in range(1,50) if number%2==0]"
   ]
  },
  {
   "cell_type": "code",
   "execution_count": null,
   "id": "52b2aeba",
   "metadata": {},
   "outputs": [],
   "source": [
    "list1"
   ]
  },
  {
   "cell_type": "code",
   "execution_count": null,
   "id": "c915cde9",
   "metadata": {},
   "outputs": [],
   "source": [
    "mylist = [1,2,3]"
   ]
  },
  {
   "cell_type": "code",
   "execution_count": null,
   "id": "cf48d9e9",
   "metadata": {},
   "outputs": [],
   "source": [
    "mylist.append(4)"
   ]
  },
  {
   "cell_type": "code",
   "execution_count": null,
   "id": "338e9ed3",
   "metadata": {},
   "outputs": [],
   "source": [
    "mylist"
   ]
  },
  {
   "cell_type": "code",
   "execution_count": null,
   "id": "766ea8fa",
   "metadata": {},
   "outputs": [],
   "source": [
    "help(mylist.insert)"
   ]
  },
  {
   "cell_type": "code",
   "execution_count": null,
   "id": "7d2201c2",
   "metadata": {},
   "outputs": [],
   "source": [
    "def print_hello_world():\n",
    "    print(\"Hello world!\")"
   ]
  },
  {
   "cell_type": "code",
   "execution_count": null,
   "id": "30935565",
   "metadata": {},
   "outputs": [],
   "source": [
    "print_hello_world()"
   ]
  },
  {
   "cell_type": "code",
   "execution_count": null,
   "id": "555dea85",
   "metadata": {},
   "outputs": [],
   "source": [
    "input(\"Geben SIe etwas ein!\")"
   ]
  },
  {
   "cell_type": "code",
   "execution_count": null,
   "id": "fc5f7a26",
   "metadata": {},
   "outputs": [],
   "source": [
    "def gruessen():\n",
    "    a = input(\"Wie heißen Sie\")\n",
    "    len(a)\n",
    "    print(f\"Es freut mich Sie kennenzulernen, {a}!\")\n",
    "    print(f\"Übrigens würde es Sie eventuell interessieren zu wissen, dass Ihr Name aus {len(a)} Buchstaben besteht. :)\")"
   ]
  },
  {
   "cell_type": "code",
   "execution_count": null,
   "id": "c25552f5",
   "metadata": {},
   "outputs": [],
   "source": [
    "gruessen()"
   ]
  },
  {
   "cell_type": "code",
   "execution_count": null,
   "id": "414911a0",
   "metadata": {},
   "outputs": [],
   "source": [
    "def ara():\n",
    "    a = input(\"Hi, Siver wie gehts dir?\")\n",
    "    print(\"Ich mache einen neuen Charakter\")"
   ]
  },
  {
   "cell_type": "code",
   "execution_count": null,
   "id": "4f903dbe",
   "metadata": {},
   "outputs": [],
   "source": [
    "ara()"
   ]
  },
  {
   "cell_type": "code",
   "execution_count": null,
   "id": "267b2525",
   "metadata": {},
   "outputs": [],
   "source": [
    "def name(name):\n",
    "    return (f\"Hallo, {name}\")"
   ]
  },
  {
   "cell_type": "code",
   "execution_count": null,
   "id": "2205bbd6",
   "metadata": {},
   "outputs": [],
   "source": [
    "result = name(\"Siver\")"
   ]
  },
  {
   "cell_type": "code",
   "execution_count": null,
   "id": "2939fae8",
   "metadata": {},
   "outputs": [],
   "source": [
    "result"
   ]
  },
  {
   "cell_type": "code",
   "execution_count": null,
   "id": "a377f55c",
   "metadata": {},
   "outputs": [],
   "source": [
    "def gerade_zahl(zahl):\n",
    "    if zahl % 2 == 0:\n",
    "        return f\"{zahl} ist eine gerade Zahl\"\n",
    "    else:\n",
    "        return f\"{zahl} ist leider keine gerade Zahl\""
   ]
  },
  {
   "cell_type": "code",
   "execution_count": null,
   "id": "a1fa3400",
   "metadata": {},
   "outputs": [],
   "source": [
    "gerade_zahl(9)"
   ]
  },
  {
   "cell_type": "code",
   "execution_count": null,
   "id": "5eaf10a6",
   "metadata": {},
   "outputs": [],
   "source": [
    "def check_even_list(num_list):\n",
    "    \n",
    "    even_numbers = []\n",
    "    \n",
    "    for number in num_list:\n",
    "        if number % 2 == 0:\n",
    "            even_numbers.append(number)\n",
    "        else:\n",
    "            pass\n",
    "    return even_numbers\n",
    "        "
   ]
  },
  {
   "cell_type": "code",
   "execution_count": null,
   "id": "d7d08133",
   "metadata": {},
   "outputs": [],
   "source": [
    "check_even_list([7,5,10,11,12,15])"
   ]
  },
  {
   "cell_type": "code",
   "execution_count": null,
   "id": "f371ce48",
   "metadata": {},
   "outputs": [],
   "source": [
    "stock_prices = [(\"APPL\", 200),(\"GOOG\", 400), (\"MSFT\", 100)]"
   ]
  },
  {
   "cell_type": "code",
   "execution_count": null,
   "id": "12f47093",
   "metadata": {},
   "outputs": [],
   "source": [
    "for item in stock_prices:\n",
    "    print(item)"
   ]
  },
  {
   "cell_type": "code",
   "execution_count": null,
   "id": "dd4ef38e",
   "metadata": {},
   "outputs": [],
   "source": [
    "for a, b in stock_prices: \n",
    "    print(b+(0.1*b))"
   ]
  },
  {
   "cell_type": "code",
   "execution_count": null,
   "id": "f8c56bd0",
   "metadata": {},
   "outputs": [],
   "source": [
    "work_hours = [(\"Abby\", 100),(\"Billy\", 4000), (\"Cassie\", 800)]"
   ]
  },
  {
   "cell_type": "code",
   "execution_count": null,
   "id": "595ef98a",
   "metadata": {},
   "outputs": [],
   "source": [
    "def emp_of_month(work_hours):\n",
    "    \n",
    "    current_max = 0\n",
    "    employee_of_month = \"\"\n",
    "    \n",
    "    for name, hours in work_hours:\n",
    "        if hours > current_max:\n",
    "            current_max = hours\n",
    "            employee_of_month = name\n",
    "        else:\n",
    "            pass\n",
    "    return (employee_of_month, current_max)\n",
    "    "
   ]
  },
  {
   "cell_type": "code",
   "execution_count": null,
   "id": "90f9404e",
   "metadata": {},
   "outputs": [],
   "source": [
    "result = emp_of_month(work_hours)"
   ]
  },
  {
   "cell_type": "code",
   "execution_count": null,
   "id": "5f97f28d",
   "metadata": {},
   "outputs": [],
   "source": [
    "item = emp_of_month(work_hours)"
   ]
  },
  {
   "cell_type": "code",
   "execution_count": null,
   "id": "9a3c0961",
   "metadata": {},
   "outputs": [],
   "source": [
    "item"
   ]
  },
  {
   "cell_type": "code",
   "execution_count": null,
   "id": "0449ba34",
   "metadata": {},
   "outputs": [],
   "source": [
    "def fakultät(zahl):\n",
    "    if zahl <= 0:\n",
    "        return f\"{zahl} ist für diese Rechnung nicht zugelassen\"\n",
    "    else:\n",
    "        new_zahl =  1\n",
    "        while zahl >= 2:\n",
    "            new_zahl *= zahl\n",
    "            zahl -= 1\n",
    "    return f\"die Fakultät aus der eingegebenen Zahl ist {new_zahl}\"\n",
    "        "
   ]
  },
  {
   "cell_type": "code",
   "execution_count": null,
   "id": "49900b6c",
   "metadata": {
    "scrolled": true
   },
   "outputs": [],
   "source": [
    "fakultät(187)"
   ]
  },
  {
   "cell_type": "code",
   "execution_count": null,
   "id": "bf6664a6",
   "metadata": {},
   "outputs": [],
   "source": [
    "def rechnen(number):\n",
    "    return number"
   ]
  },
  {
   "cell_type": "code",
   "execution_count": null,
   "id": "a3dc8e01",
   "metadata": {},
   "outputs": [],
   "source": [
    "ergebnis_rechnen = rechnen(8)"
   ]
  },
  {
   "cell_type": "code",
   "execution_count": null,
   "id": "7110ebb4",
   "metadata": {},
   "outputs": [],
   "source": [
    "ergebnis_rechnen"
   ]
  },
  {
   "cell_type": "code",
   "execution_count": null,
   "id": "972810e3",
   "metadata": {},
   "outputs": [],
   "source": [
    "#rechnen\n",
    "rechnen(8)\n",
    "#fakultät ausrechen\n",
    "fakultät(ergebnis_rechnen)"
   ]
  },
  {
   "cell_type": "code",
   "execution_count": null,
   "id": "cdc79967",
   "metadata": {},
   "outputs": [],
   "source": [
    "ergebnis_rechnen"
   ]
  },
  {
   "cell_type": "code",
   "execution_count": null,
   "id": "2ef1ed21",
   "metadata": {},
   "outputs": [],
   "source": [
    "rechnen(9)"
   ]
  },
  {
   "cell_type": "code",
   "execution_count": null,
   "id": "e3110439",
   "metadata": {},
   "outputs": [],
   "source": []
  },
  {
   "cell_type": "code",
   "execution_count": null,
   "id": "8f9cb7f1",
   "metadata": {},
   "outputs": [],
   "source": []
  },
  {
   "cell_type": "code",
   "execution_count": null,
   "id": "b8089922",
   "metadata": {},
   "outputs": [],
   "source": [
    "example = [1,2,3,4,5,6,7]"
   ]
  },
  {
   "cell_type": "code",
   "execution_count": null,
   "id": "acc0565d",
   "metadata": {},
   "outputs": [],
   "source": [
    "from random import shuffle"
   ]
  },
  {
   "cell_type": "code",
   "execution_count": null,
   "id": "ff17648b",
   "metadata": {},
   "outputs": [],
   "source": [
    "shuffle(example)"
   ]
  },
  {
   "cell_type": "code",
   "execution_count": null,
   "id": "fd5e5414",
   "metadata": {},
   "outputs": [],
   "source": [
    "example"
   ]
  },
  {
   "cell_type": "code",
   "execution_count": null,
   "id": "0f00ef90",
   "metadata": {},
   "outputs": [],
   "source": [
    "def shuffle_list(mylist):\n",
    "    shuffle(mylist)\n",
    "    return mylist"
   ]
  },
  {
   "cell_type": "code",
   "execution_count": null,
   "id": "7a1c4f4b",
   "metadata": {},
   "outputs": [],
   "source": [
    "result = shuffle_list(example)"
   ]
  },
  {
   "cell_type": "code",
   "execution_count": null,
   "id": "42e6b79a",
   "metadata": {},
   "outputs": [],
   "source": [
    "result"
   ]
  },
  {
   "cell_type": "code",
   "execution_count": null,
   "id": "e9f56e42",
   "metadata": {},
   "outputs": [],
   "source": [
    "mylist = [\" \", \"O\", \" \"]"
   ]
  },
  {
   "cell_type": "code",
   "execution_count": null,
   "id": "941057e8",
   "metadata": {},
   "outputs": [],
   "source": [
    "shuffle_list(mylist)"
   ]
  },
  {
   "cell_type": "code",
   "execution_count": null,
   "id": "808ce782",
   "metadata": {},
   "outputs": [],
   "source": [
    "def player_guess():\n",
    "    \n",
    "    guess = \" \"\n",
    "    \n",
    "    while guess not in [\"0\", \"1\", \"2\"]:\n",
    "        guess = input(\"Pik a number: 0, 1 or 2\")\n",
    "        \n",
    "    return int(guess)"
   ]
  },
  {
   "cell_type": "code",
   "execution_count": null,
   "id": "ac5dd785",
   "metadata": {},
   "outputs": [],
   "source": [
    "player_guess()"
   ]
  },
  {
   "cell_type": "code",
   "execution_count": null,
   "id": "4a845a7a",
   "metadata": {},
   "outputs": [],
   "source": [
    "def check_guess(mylist,guess):\n",
    "    if mylist[guess] == \"O\":\n",
    "        print(\"Correct!\")\n",
    "    else:\n",
    "        print(\"Wrong guess!\")\n",
    "        print(mylist)"
   ]
  },
  {
   "cell_type": "code",
   "execution_count": null,
   "id": "5c411226",
   "metadata": {},
   "outputs": [],
   "source": [
    "# initial list\n",
    "\n",
    "mylist = [\" \", \"O\", \" \"]\n",
    "\n",
    "# Shuffle List\n",
    "\n",
    "mixedup_list = shuffle_list(mylist)\n",
    "\n",
    "# User Guess\n",
    "\n",
    "guess = player_guess()\n",
    "\n",
    "# Check Guess\n",
    "\n",
    "check_guess(mixedup_list, guess)"
   ]
  },
  {
   "cell_type": "code",
   "execution_count": null,
   "id": "ea0ab70a",
   "metadata": {
    "scrolled": true
   },
   "outputs": [],
   "source": [
    "2"
   ]
  },
  {
   "cell_type": "code",
   "execution_count": null,
   "id": "baf6a8b7",
   "metadata": {},
   "outputs": [],
   "source": [
    "def myfunc():\n",
    "    name = input(\"Wie heißt du?\")\n",
    "    print(\"Hallo \" + name) "
   ]
  },
  {
   "cell_type": "code",
   "execution_count": null,
   "id": "7b5bd4ba",
   "metadata": {},
   "outputs": [],
   "source": [
    "myfunc()"
   ]
  },
  {
   "cell_type": "code",
   "execution_count": null,
   "id": "f7285d5f",
   "metadata": {},
   "outputs": [],
   "source": [
    "def myfunc(a, b):\n",
    "    # Returns 5% of the sum of a and b \n",
    "    return sum((a, b)) * 0.05"
   ]
  },
  {
   "cell_type": "code",
   "execution_count": null,
   "id": "eba9b71c",
   "metadata": {
    "scrolled": true
   },
   "outputs": [],
   "source": [
    "myfunc(40,60,87)"
   ]
  },
  {
   "cell_type": "code",
   "execution_count": null,
   "id": "b3a6991b",
   "metadata": {
    "scrolled": true
   },
   "outputs": [],
   "source": [
    "myfunc(\"hi\", \"hi\")"
   ]
  },
  {
   "cell_type": "code",
   "execution_count": null,
   "id": "0b220dfd",
   "metadata": {},
   "outputs": [],
   "source": [
    "def myfunc(*args):\n",
    "    return sum(args) * 0.05"
   ]
  },
  {
   "cell_type": "code",
   "execution_count": null,
   "id": "3d036048",
   "metadata": {},
   "outputs": [],
   "source": [
    "myfunc(40,60,100,1,34)"
   ]
  },
  {
   "cell_type": "code",
   "execution_count": null,
   "id": "1d566dca",
   "metadata": {},
   "outputs": [],
   "source": [
    "def myfunc(**kwargs):\n",
    "    #for name in kwargs:\n",
    "    print(kwargs)"
   ]
  },
  {
   "cell_type": "code",
   "execution_count": null,
   "id": "e8b2ce1a",
   "metadata": {},
   "outputs": [],
   "source": []
  },
  {
   "cell_type": "code",
   "execution_count": null,
   "id": "33534264",
   "metadata": {},
   "outputs": [],
   "source": [
    "myfunc(baby = \"hallo\", ich = \"siver\")"
   ]
  },
  {
   "cell_type": "code",
   "execution_count": null,
   "id": "ff48a1ef",
   "metadata": {},
   "outputs": [],
   "source": [
    "def myfunc(*args, **kwargs):\n",
    "    print(args)\n",
    "    print(kwargs)\n",
    "    print(f\"I would like {args[0]}{kwargs['food']}\")"
   ]
  },
  {
   "cell_type": "code",
   "execution_count": null,
   "id": "7142d399",
   "metadata": {},
   "outputs": [],
   "source": [
    "myfunc(10,20,30,fruit = \"orange\", food=\"eggs\", animal=\"dog\")"
   ]
  },
  {
   "cell_type": "code",
   "execution_count": null,
   "id": "0d25ad35",
   "metadata": {},
   "outputs": [],
   "source": [
    "def myfunc(**kwargs):\n",
    "    word = []\n",
    "    for letter in kwargs:\n",
    "        word.append(letter)\n",
    "    for letter in word:\n",
    "        if index(letter) % 2 == 0:\n",
    "            upper(letter)\n",
    "        else:\n",
    "            lower(letter)\n",
    "    print(letter)"
   ]
  },
  {
   "cell_type": "code",
   "execution_count": null,
   "id": "1d4f2502",
   "metadata": {},
   "outputs": [],
   "source": []
  },
  {
   "cell_type": "code",
   "execution_count": null,
   "id": "02c7180d",
   "metadata": {},
   "outputs": [],
   "source": [
    "myfunc(ich = \"Hi\")"
   ]
  },
  {
   "cell_type": "code",
   "execution_count": null,
   "id": "31f71e8c",
   "metadata": {},
   "outputs": [],
   "source": [
    "def myfunc(**kwargs):\n",
    "    word = []\n",
    "    for letter in kwargs:\n",
    "        word.append(letter)\n",
    "\n",
    "    for i, letter in enumerate(word):\n",
    "        if i % 2 == 0:\n",
    "            word[i] = letter.upper()\n",
    "        else:\n",
    "            word[i] = letter.lower()\n",
    "\n",
    "    result = ''.join(word)\n",
    "    print(result)\n",
    "\n",
    "# Beispielaufruf der Funktion\n",
    "myfunc(input=\"Hallo Welt\")"
   ]
  },
  {
   "cell_type": "code",
   "execution_count": null,
   "id": "88029898",
   "metadata": {},
   "outputs": [],
   "source": [
    "myfunc(ich = \"Hallo\")"
   ]
  },
  {
   "cell_type": "code",
   "execution_count": null,
   "id": "b925cd30",
   "metadata": {},
   "outputs": [],
   "source": [
    "def myfunc(**kwargs):\n",
    "    word = []\n",
    "    for letter in kwargs:\n",
    "        word.append(letter)\n",
    "\n",
    "    for i, letter in enumerate(word):\n",
    "        if i % 2 == 0:\n",
    "            word[i] = letter.upper()\n",
    "        else:\n",
    "            word[i] = letter.lower()\n",
    "\n",
    "    result = ''.join(word)\n",
    "    print(result)"
   ]
  },
  {
   "cell_type": "code",
   "execution_count": null,
   "id": "b39a721f",
   "metadata": {},
   "outputs": [],
   "source": [
    "myfunc(kwargs=\"Hallo\")"
   ]
  },
  {
   "cell_type": "code",
   "execution_count": null,
   "id": "5a3e0a31",
   "metadata": {},
   "outputs": [],
   "source": [
    "def square(num):\n",
    "    return num**2"
   ]
  },
  {
   "cell_type": "code",
   "execution_count": null,
   "id": "a59d9184",
   "metadata": {},
   "outputs": [],
   "source": [
    "my_nums = [1,2,3,4,5]"
   ]
  },
  {
   "cell_type": "code",
   "execution_count": null,
   "id": "29c6a8ca",
   "metadata": {},
   "outputs": [],
   "source": [
    "for item in map(square,my_nums):\n",
    "    print(item)"
   ]
  },
  {
   "cell_type": "code",
   "execution_count": null,
   "id": "00589e90",
   "metadata": {},
   "outputs": [],
   "source": [
    "list(map(square,my_nums))"
   ]
  },
  {
   "cell_type": "code",
   "execution_count": null,
   "id": "878b279d",
   "metadata": {},
   "outputs": [],
   "source": [
    "def splicer(mystring):\n",
    "    if len(mystring)%2==0:\n",
    "        return \"EVEN\"\n",
    "    else: \n",
    "        return mystring[0]"
   ]
  },
  {
   "cell_type": "code",
   "execution_count": null,
   "id": "8f4c190c",
   "metadata": {},
   "outputs": [],
   "source": [
    "names = [\"Andy\", \"Eve\", \"Sally\"]"
   ]
  },
  {
   "cell_type": "code",
   "execution_count": null,
   "id": "cd7c5819",
   "metadata": {},
   "outputs": [],
   "source": [
    "for name in map(splicer,names):\n",
    "     print(name)"
   ]
  },
  {
   "cell_type": "code",
   "execution_count": null,
   "id": "08031b9b",
   "metadata": {},
   "outputs": [],
   "source": [
    "def check_even(num):\n",
    "    return num%2==0"
   ]
  },
  {
   "cell_type": "code",
   "execution_count": null,
   "id": "f9983304",
   "metadata": {},
   "outputs": [],
   "source": [
    "mynum = [1,2,3,4,5,6]"
   ]
  },
  {
   "cell_type": "code",
   "execution_count": null,
   "id": "56165266",
   "metadata": {},
   "outputs": [],
   "source": [
    "for n in filter(check_even,mynum):\n",
    "    print(n)"
   ]
  },
  {
   "cell_type": "code",
   "execution_count": null,
   "id": "711e369a",
   "metadata": {},
   "outputs": [],
   "source": [
    "list(filter(check_even,mynum))"
   ]
  },
  {
   "cell_type": "code",
   "execution_count": null,
   "id": "1a447ffe",
   "metadata": {},
   "outputs": [],
   "source": [
    "list(map(check_even,mynum))"
   ]
  },
  {
   "cell_type": "code",
   "execution_count": null,
   "id": "e613579d",
   "metadata": {},
   "outputs": [],
   "source": [
    "def square(num):\n",
    "    return num**2"
   ]
  },
  {
   "cell_type": "code",
   "execution_count": null,
   "id": "9d45f88a",
   "metadata": {},
   "outputs": [],
   "source": [
    "square(65000)"
   ]
  },
  {
   "cell_type": "code",
   "execution_count": null,
   "id": "36cb6a35",
   "metadata": {},
   "outputs": [],
   "source": [
    "list(map(lambda num: num**2, mynum))"
   ]
  },
  {
   "cell_type": "code",
   "execution_count": null,
   "id": "a962d9d5",
   "metadata": {},
   "outputs": [],
   "source": [
    "list(filter(lambda num: num%2==0, mynum))"
   ]
  },
  {
   "cell_type": "code",
   "execution_count": null,
   "id": "f88fe448",
   "metadata": {},
   "outputs": [],
   "source": [
    "names"
   ]
  },
  {
   "cell_type": "code",
   "execution_count": null,
   "id": "4ded5e9a",
   "metadata": {},
   "outputs": [],
   "source": [
    "list(map(lambda x:x[::-1],names))"
   ]
  },
  {
   "cell_type": "code",
   "execution_count": null,
   "id": "fccde149",
   "metadata": {},
   "outputs": [],
   "source": [
    "x = 25\n",
    "\n",
    "def printer():\n",
    "    x = 50\n",
    "    return x"
   ]
  },
  {
   "cell_type": "code",
   "execution_count": null,
   "id": "0dad69c5",
   "metadata": {},
   "outputs": [],
   "source": [
    "print(printer())"
   ]
  },
  {
   "cell_type": "code",
   "execution_count": null,
   "id": "6fe74ef3",
   "metadata": {},
   "outputs": [],
   "source": []
  },
  {
   "cell_type": "code",
   "execution_count": null,
   "id": "b7ef44f1",
   "metadata": {},
   "outputs": [],
   "source": [
    "#lambda num: num**2"
   ]
  },
  {
   "cell_type": "code",
   "execution_count": null,
   "id": "4379c868",
   "metadata": {},
   "outputs": [],
   "source": [
    "name = \"THIS IS A GLOBAL STRING\"\n",
    "\n",
    "def greet():\n",
    "    \n",
    "    name = \"Sammy\"\n",
    "    \n",
    "    def hello():\n",
    "        print(\"Hello \"+name)\n",
    "    \n",
    "    hello()\n",
    "        \n",
    "greet()"
   ]
  },
  {
   "cell_type": "code",
   "execution_count": null,
   "id": "437ee499",
   "metadata": {},
   "outputs": [],
   "source": [
    "x = 50\n",
    "\n",
    "def func(x):\n",
    "    \n",
    "    print(f\"X is {x}\")\n",
    "    \n",
    "    #LOCAL REASSIGNMENT ON A GLOBAL VARIABLE\n",
    "    \n",
    "    x = \"New Value\"\n",
    "    print(f\"I just locally changed global x to {x}\")\n",
    "    return x"
   ]
  },
  {
   "cell_type": "code",
   "execution_count": null,
   "id": "ea84874a",
   "metadata": {},
   "outputs": [],
   "source": [
    "x = func(x)"
   ]
  },
  {
   "cell_type": "code",
   "execution_count": null,
   "id": "92b4e5ae",
   "metadata": {
    "scrolled": false
   },
   "outputs": [],
   "source": [
    "import yfinance as yf\n",
    "import datetime\n",
    "import matplotlib.pyplot as plt\n",
    "import mplfinance as mpf\n",
    "\n",
    "symbol = \"AAPL\"  # Das Tickersymbol muss vor der Verwendung definiert werden\n",
    "\n",
    "ticker = yf.Ticker(symbol)\n",
    "\n",
    "info = ticker.info \n",
    "\n",
    "print(\"Aktieninformationen zu Apple: \")\n",
    "#print(\"Current Price: \",info[\"last_price\"])\n",
    "print(\"targetHighPrice: \",info[\"targetHighPrice\"])\n",
    "print(\"targetLowPrice: \",info[\"targetLowPrice\"])\n",
    "print(\"targetMeanPrice: \",info[\"targetMeanPrice\"])\n",
    "print(\"targetMedianPrice: \",info[\"targetMedianPrice\"])\n",
    "print(\"recommendationMean: \",info[\"recommendationMean\"])\n",
    "print(\"recommendationKey: \",info[\"recommendationKey\"])\n",
    "\n",
    "start_date = \"2020-02-02\"\n",
    "current_datetime = datetime.datetime.now()\n",
    "end_date =  current_datetime.strftime('%Y-%m-%d')\n",
    "\n",
    "data = yf.download(symbol, start=start_date, end=end_date)\n",
    "mpf.plot(data, type='line', title='Apple Aktienkursverlauf', style='charles', ylabel='Preis')\n",
    "#plt.show()\n",
    "\n"
   ]
  },
  {
   "cell_type": "code",
   "execution_count": null,
   "id": "f034fa1d",
   "metadata": {},
   "outputs": [],
   "source": [
    "pip install yfinance"
   ]
  },
  {
   "cell_type": "code",
   "execution_count": null,
   "id": "3f196b3e",
   "metadata": {},
   "outputs": [],
   "source": [
    "pip install mplfinance"
   ]
  },
  {
   "cell_type": "code",
   "execution_count": null,
   "id": "c86e408f",
   "metadata": {},
   "outputs": [],
   "source": []
  },
  {
   "cell_type": "code",
   "execution_count": null,
   "id": "d55e9372",
   "metadata": {},
   "outputs": [],
   "source": []
  },
  {
   "cell_type": "code",
   "execution_count": null,
   "id": "55998339",
   "metadata": {},
   "outputs": [],
   "source": []
  },
  {
   "cell_type": "code",
   "execution_count": null,
   "id": "297aac91",
   "metadata": {},
   "outputs": [],
   "source": [
    "game_list = [0,1,2]"
   ]
  },
  {
   "cell_type": "code",
   "execution_count": 2,
   "id": "9aa7c948",
   "metadata": {},
   "outputs": [],
   "source": [
    "def display_game(game_list):\n",
    "    print(\"Here is the current list: \")\n",
    "    print(game_list)"
   ]
  },
  {
   "cell_type": "code",
   "execution_count": null,
   "id": "06df5989",
   "metadata": {},
   "outputs": [],
   "source": [
    "display_game(game_list)"
   ]
  },
  {
   "cell_type": "code",
   "execution_count": 3,
   "id": "646335df",
   "metadata": {},
   "outputs": [],
   "source": [
    "def position_choice():\n",
    "    \n",
    "    choice = \"wrong\"\n",
    "    \n",
    "    while choice not in [\"0\", \"1\", \"2\"]:\n",
    "        \n",
    "        choice = input(\"Pick a position (0,1,2): \")\n",
    "        \n",
    "        if choice not in [\"0\", \"1\", \"2\"]:\n",
    "            print(\"Sorry, invalid choice!\")\n",
    "        \n",
    "    return int(choice)"
   ]
  },
  {
   "cell_type": "code",
   "execution_count": null,
   "id": "466d3034",
   "metadata": {},
   "outputs": [],
   "source": [
    "position_choice()"
   ]
  },
  {
   "cell_type": "code",
   "execution_count": 4,
   "id": "e64aefd8",
   "metadata": {},
   "outputs": [],
   "source": [
    "def replacement_choice(game_list, position):\n",
    "    \n",
    "    user_placement = input(\"Type a string to place at position: \")\n",
    "    \n",
    "    game_list[position] = user_placement\n",
    "    \n",
    "    return game_list"
   ]
  },
  {
   "cell_type": "code",
   "execution_count": null,
   "id": "2a7783f8",
   "metadata": {},
   "outputs": [],
   "source": [
    "replacement_choice(game_list,1)"
   ]
  },
  {
   "cell_type": "code",
   "execution_count": 5,
   "id": "06087a2a",
   "metadata": {},
   "outputs": [],
   "source": [
    "def gameon_choice():\n",
    "    \n",
    "    choice = \"wrong\"\n",
    "    \n",
    "    while choice not in [\"Y\", \"N\"]:\n",
    "        \n",
    "        choice = input(\"Keep playing? (Y or N) \").upper()\n",
    "        \n",
    "        if choice not in [\"Y\", \"N\"]:\n",
    "            print(\"Sorry, I dont understand, please choose Y or N\")\n",
    "        \n",
    "    if choice == \"Y\":\n",
    "        return True\n",
    "    \n",
    "    else:\n",
    "        return False"
   ]
  },
  {
   "cell_type": "code",
   "execution_count": null,
   "id": "857da8b3",
   "metadata": {},
   "outputs": [],
   "source": [
    "gameon_choice()"
   ]
  },
  {
   "cell_type": "code",
   "execution_count": 6,
   "id": "672e1d6e",
   "metadata": {},
   "outputs": [
    {
     "name": "stdout",
     "output_type": "stream",
     "text": [
      "Here is the current list: \n",
      "[0, 1, 2]\n",
      "Pick a position (0,1,2): 5\n",
      "Sorry, invalid choice!\n",
      "Pick a position (0,1,2): 1\n",
      "Type a string to place at position: Artikulieren\n",
      "Here is the current list: \n",
      "[0, 'Artikulieren', 2]\n",
      "Keep playing? (Y or N) y\n",
      "Here is the current list: \n",
      "[0, 'Artikulieren', 2]\n",
      "Pick a position (0,1,2): 0\n",
      "Type a string to place at position: besser\n",
      "Here is the current list: \n",
      "['besser', 'Artikulieren', 2]\n",
      "Keep playing? (Y or N) Y\n",
      "Here is the current list: \n",
      "['besser', 'Artikulieren', 2]\n",
      "Pick a position (0,1,2): 2\n",
      "Type a string to place at position: lernen\n",
      "Here is the current list: \n",
      "['besser', 'Artikulieren', 'lernen']\n",
      "Keep playing? (Y or N) n\n"
     ]
    }
   ],
   "source": [
    "game_on = True\n",
    "game_list = [0,1,2]\n",
    "\n",
    "while game_on:\n",
    "    \n",
    "    display_game(game_list)\n",
    "    \n",
    "    position = position_choice()\n",
    "    \n",
    "    game_list = replacement_choice(game_list,position)\n",
    "    \n",
    "    display_game(game_list)\n",
    "    \n",
    "    game_on = gameon_choice()"
   ]
  }
 ],
 "metadata": {
  "kernelspec": {
   "display_name": "Python 3 (ipykernel)",
   "language": "python",
   "name": "python3"
  },
  "language_info": {
   "codemirror_mode": {
    "name": "ipython",
    "version": 3
   },
   "file_extension": ".py",
   "mimetype": "text/x-python",
   "name": "python",
   "nbconvert_exporter": "python",
   "pygments_lexer": "ipython3",
   "version": "3.11.4"
  }
 },
 "nbformat": 4,
 "nbformat_minor": 5
}
