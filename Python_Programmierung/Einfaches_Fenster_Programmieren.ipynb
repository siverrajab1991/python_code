{
 "cells": [
  {
   "cell_type": "code",
   "execution_count": 2,
   "id": "99fcbcb4",
   "metadata": {},
   "outputs": [],
   "source": [
    "import tkinter as tk\n",
    "import random\n",
    "\n",
    "class Wuerfel:\n",
    "    def __init__(self):\n",
    "        self.zahlen = [1, 2, 3, 4, 5, 6]\n",
    "\n",
    "    def werfen(self):\n",
    "        random.shuffle(self.zahlen)\n",
    "        self.ausgabe = self.zahlen[0]\n",
    "        return self.ausgabe\n",
    "\n",
    "    def spielen(self):\n",
    "        p1 = input(\"Wie heißt du: \")\n",
    "        Spielstand = 0\n",
    "        while Spielstand < 10:\n",
    "            zahl = self.werfen()\n",
    "            if Spielstand + zahl <= 10:\n",
    "                Spielstand += zahl\n",
    "                print(f\"{p1}, dein Spielstand beträgt {Spielstand}\")\n",
    "                b = input(f\"Möchtest du weiterspielen, {p1}? (Y/N)\").upper()\n",
    "                if b in [\"Y\", \"N\"]:\n",
    "                    if b == \"Y\":\n",
    "                        continue\n",
    "                    else:\n",
    "                        return Spielstand\n",
    "            elif Spielstand + zahl > 10:\n",
    "                Spielstand += zahl\n",
    "                print(f\"{p1}, leider überschreitest du 10 mit deinem Spielstand {Spielstand} und verlierst damit!\")\n",
    "                return Spielstand\n",
    "\n",
    "    def __str__(self):\n",
    "        return str(self.ausgabe)\n",
    "\n",
    "    def __len__(self):\n",
    "        return len(self.ausgabe)\n",
    "\n"
   ]
  },
  {
   "cell_type": "code",
   "execution_count": null,
   "id": "fe1f7c01",
   "metadata": {},
   "outputs": [],
   "source": [
    "def button1_click():\n",
    "    wuerfel = Wuerfel()\n",
    "    wuerfel.spielen()\n",
    "    label.config(text=f\"Button 1 wurde geklickt. Ergebnis: {wuerfel}\")\n",
    "\n",
    "def button2_click():\n",
    "    label.config(text=\"Button 2 wurde geklickt\")\n",
    "\n",
    "root = tk.Tk()\n",
    "root.title(\"Einfaches Fenster mit Knöpfen\")\n",
    "\n",
    "button1 = tk.Button(root, text=\"Spielen\", command=button1_click)\n",
    "button1.pack()\n",
    "\n",
    "button2 = tk.Button(root, text=\"Button 2\", command=button2_click)\n",
    "button2.pack()\n",
    "\n",
    "label = tk.Label(root, text=\"\")\n",
    "label.pack()\n",
    "\n",
    "root.mainloop()"
   ]
  },
  {
   "cell_type": "code",
   "execution_count": null,
   "id": "dbc29419",
   "metadata": {},
   "outputs": [],
   "source": []
  }
 ],
 "metadata": {
  "kernelspec": {
   "display_name": "Python 3 (ipykernel)",
   "language": "python",
   "name": "python3"
  },
  "language_info": {
   "codemirror_mode": {
    "name": "ipython",
    "version": 3
   },
   "file_extension": ".py",
   "mimetype": "text/x-python",
   "name": "python",
   "nbconvert_exporter": "python",
   "pygments_lexer": "ipython3",
   "version": "3.11.4"
  }
 },
 "nbformat": 4,
 "nbformat_minor": 5
}
