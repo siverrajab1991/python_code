{
 "cells": [
  {
   "cell_type": "code",
   "execution_count": null,
   "id": "bbd57baa",
   "metadata": {},
   "outputs": [],
   "source": [
    "import random \n",
    "\n",
    "\n",
    "class Wuerfel():\n",
    "    \n",
    "    def __init__(self):\n",
    "        self.zahlen = [1,2,3,4,5,6]\n",
    "    \n",
    "    \n",
    "    def werfen(self):\n",
    "        random.shuffle(self.zahlen)\n",
    "        self.ausgabe = self.zahlen[0]\n",
    "        return self.ausgabe\n",
    "    \n",
    "    def spielen(self): \n",
    "    \n",
    "        p1 = input(\"Wie heißt du: \")\n",
    "        Spielstand = 0\n",
    "        while Spielstand <21:\n",
    "            zahl = self.werfen()\n",
    "\n",
    "            if Spielstand + zahl <= 21:\n",
    "                Spielstand += zahl\n",
    "                print(f\"{p1}, dein Spielstand beträgt {Spielstand}\")\n",
    "                b = input(f\"Möchtest du weiterspielen, {p1}? (Y/N)\").upper()\n",
    "                if b in [\"Y\",\"N\"]:\n",
    "                    if b == \"Y\":\n",
    "                        continue\n",
    "                    else:\n",
    "                        return Spielstand\n",
    "                        break \n",
    "            elif Spielstand + zahl > 21:\n",
    "                Spielstand += zahl\n",
    "                print(f\"{p1}, leider überschreitest du 10 mit deinem Spielstand {Spielstand} und verlierst damit!\")\n",
    "                return Spielstand\n",
    "                break\n",
    "\n",
    "        \n",
    "    def __str__(self):\n",
    "        print(f\"{self.ausgabe}\")\n",
    "        \n",
    "        \n",
    "    def __len__(self):\n",
    "        print(self.ausgabe)\n",
    "    "
   ]
  }
 ],
 "metadata": {
  "kernelspec": {
   "display_name": "Python 3 (ipykernel)",
   "language": "python",
   "name": "python3"
  },
  "language_info": {
   "codemirror_mode": {
    "name": "ipython",
    "version": 3
   },
   "file_extension": ".py",
   "mimetype": "text/x-python",
   "name": "python",
   "nbconvert_exporter": "python",
   "pygments_lexer": "ipython3",
   "version": "3.11.4"
  }
 },
 "nbformat": 4,
 "nbformat_minor": 5
}
